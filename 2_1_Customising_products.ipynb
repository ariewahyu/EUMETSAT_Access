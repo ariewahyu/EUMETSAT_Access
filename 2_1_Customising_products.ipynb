{
 "cells": [
  {
   "cell_type": "markdown",
   "metadata": {
    "Collapsed": "false"
   },
   "source": [
    "<img src='./img/DataTailor_EUMETSAT.png'/>"
   ]
  },
  {
   "cell_type": "markdown",
   "metadata": {},
   "source": [
    "Copyright (c) 2024 EUMETSAT <br>\n",
    "License: MIT"
   ]
  },
  {
   "cell_type": "markdown",
   "metadata": {
    "Collapsed": "false"
   },
   "source": [
    "<hr>"
   ]
  },
  {
   "cell_type": "markdown",
   "metadata": {
    "Collapsed": "false"
   },
   "source": [
    "<a href=\"./index.ipynb\">← Index</a>\n",
    "<br>\n",
    "<a href=\"./1_6_MTG_LI_data_access.ipynb\">← Accessing MTG LI products</a><span style=\"float:right;\"><a href=\"./2_2_Cleaning_the_Data_Tailor_workspace.ipynb\">Cleaning the Data Tailor workspace →</a>"
   ]
  },
  {
   "cell_type": "markdown",
   "metadata": {
    "Collapsed": "false"
   },
   "source": [
    "## Using the EUMETSAT Data Tailor with EUMDAC"
   ]
  },
  {
   "cell_type": "markdown",
   "metadata": {},
   "source": [
    "### What will this module teach you?\n",
    "\n",
    "This module will show you how to:<br>\n",
    "1. Select a product from the <b>Data Store</b> via EUMDAC library\n",
    "2. Pass the product to the <b>Data Tailor</b> via EUMDAC library to remotely customise products prior to download\n",
    "3. Retrieve your customised products"
   ]
  },
  {
   "cell_type": "markdown",
   "metadata": {},
   "source": [
    "### Use EUMDAC library\n",
    "\n",
    "In this section we will demonstrate how you can use the Data Tailor web service to customise products you select from the Data Store. This customisation is done <b><u>prior</u></b> to downloading the products, so it is useful for users who wish to refine their data stream. We can do this by using EUMDAC, an EUMETSAT Python library to handle requests and responses of the APIs.\n",
    "\n",
    "You will find an installation guide, and further information about the usage of EUMDAC, here: https://user.eumetsat.int/resources/user-guides/eumetsat-data-access-client-eumdac-guide\n",
    "\n",
    "### Authentication\n",
    "\n",
    "After installing the eumdac we are calling the Token. It takes care of requesting a new value after expiration."
   ]
  },
  {
   "cell_type": "code",
   "execution_count": 1,
   "metadata": {},
   "outputs": [],
   "source": [
    "# Import the library EUMDAC\n",
    "import eumdac\n",
    "import time\n",
    "import requests"
   ]
  },
  {
   "cell_type": "code",
   "execution_count": 2,
   "metadata": {},
   "outputs": [],
   "source": [
    "# Insert your personal key and secret into the single quotes\n",
    "\n",
    "consumer_key = 'YOUR_CONSUMER_KEY'\n",
    "consumer_secret = 'YOUR_CONSUMER_SECRET'\n",
    "\n",
    "credentials = (consumer_key, consumer_secret)\n",
    "\n",
    "token = eumdac.AccessToken(credentials)"
   ]
  },
  {
   "cell_type": "markdown",
   "metadata": {},
   "source": [
    "<div class=\"alert alert-block alert-success\">\n",
    "<b>NOTE:</b><br />\n",
    "You can find your personal API credentials here: <a href=\"https://api.eumetsat.int/api-key/\">https://api.eumetsat.int/api-key/</a>\n",
    "</div>"
   ]
  },
  {
   "cell_type": "code",
   "execution_count": 3,
   "metadata": {},
   "outputs": [
    {
     "name": "stdout",
     "output_type": "stream",
     "text": [
      "This token 'eda98ae8-4156-36b1-9f50-d4226baa589a' expires 2024-09-26 10:15:23.716953\n"
     ]
    }
   ],
   "source": [
    "try:\n",
    "    print(f\"This token '{token}' expires {token.expiration}\")\n",
    "except requests.exceptions.HTTPError as exc:\n",
    "    print(f\"Error when trying the request to the server: '{exc}'\")"
   ]
  },
  {
   "cell_type": "markdown",
   "metadata": {},
   "source": [
    "### Selecting a product from the Data Store\n",
    "\n",
    "For this demonstration, we are going to select a Level 1.5 SEVIRI product (collection ID: EO:EUM:DAT:MSG:HRSEVIRI). This sensor is aboard the geostationary MSG platform, so we do not need to search products by coverage region. SEVIRI products are available every 15 minutes, so we will select the latest product for this example."
   ]
  },
  {
   "cell_type": "code",
   "execution_count": 5,
   "metadata": {},
   "outputs": [],
   "source": [
    "datastore = eumdac.DataStore(token)\n",
    "selected_collection = datastore.get_collection('EO:EUM:DAT:MSG:HRSEVIRI')\n",
    "latest = selected_collection.search().first()"
   ]
  },
  {
   "cell_type": "code",
   "execution_count": 7,
   "metadata": {},
   "outputs": [
    {
     "name": "stdout",
     "output_type": "stream",
     "text": [
      "MSG4-SEVI-MSG15-0100-NA-20230313134243.191000000Z-NA\n"
     ]
    }
   ],
   "source": [
    "try:\n",
    "    print(latest)\n",
    "except eumdac.datastore.DataStoreError as error:\n",
    "    print(f\"Error related to the data store: '{error.msg}'\")\n",
    "except eumdac.collection.CollectionError as error:\n",
    "    print(f\"Error related to the collection: '{error.msg}'\")\n",
    "except requests.exceptions.RequestException as error:\n",
    "    print(f\"Unexpected error: {error}\")"
   ]
  },
  {
   "cell_type": "markdown",
   "metadata": {},
   "source": [
    "<div class=\"alert alert-block alert-success\">\n",
    "<b>NOTE:</b><br />\n",
    "Find more information about EUMDAC errors, their causes and possible solutions, in our knowledge base: <a href=\"https://user.eumetsat.int/resources/user-guides/eumetsat-data-access-client-eumdac-guide#ID-Exception-handling\">https://user.eumetsat.int/resources/user-guides/eumetsat-data-access-client-eumdac-guide#ID-Exception-handling</a>\n",
    "</div>"
   ]
  },
  {
   "cell_type": "markdown",
   "metadata": {},
   "source": [
    "## Customising products with the Data Tailor\n",
    "\n",
    "To customise a product with the Data Tailor, we need to provide following information;\n",
    "* A product object\n",
    "* A chain configuration\n",
    "\n",
    "We already have the product object, 'latest'. Now, we will define our chain configuration."
   ]
  },
  {
   "cell_type": "code",
   "execution_count": 6,
   "metadata": {},
   "outputs": [
    {
     "data": {
      "text/plain": [
       "{'total': 1,\n",
       " 'data': {'niklasjo': {'disk_quota_active': True,\n",
       "   'user_quota': 20000.0,\n",
       "   'space_usage_percentage': 0.0,\n",
       "   'space_usage': 0.095475,\n",
       "   'workspace_dir_size': 0.0,\n",
       "   'log_dir_size': 0.000137,\n",
       "   'output_dir_size': 0.0,\n",
       "   'nr_customisations': 1,\n",
       "   'unit_of_size': 'MB'}}}"
      ]
     },
     "metadata": {},
     "output_type": "display_data"
    }
   ],
   "source": [
    "datatailor = eumdac.DataTailor(token)\n",
    "\n",
    "# To check if Data Tailor works as expected, we are requesting our quota information\n",
    "try:\n",
    "    display(datatailor.quota)\n",
    "except eumdac.datatailor.DataTailorError as error:\n",
    "    print(f\"Error related to the Data Tailor: '{error.msg}'\")\n",
    "except requests.exceptions.RequestException as error:\n",
    "    print(f\"Unexpected error: {error}\")"
   ]
  },
  {
   "cell_type": "markdown",
   "metadata": {},
   "source": [
    "#### Defining your own configuration chain\n",
    "Here we show how to start a customisation with an individual customisation chain. For more info on configuration chains, please go to our [Understanding, Configuring and Using Chains](https://user.eumetsat.int/resources/user-guides/data-store-detailed-guide#ID-Understanding-configuring-and-using-chains) page."
   ]
  },
  {
   "cell_type": "code",
   "execution_count": 26,
   "metadata": {},
   "outputs": [],
   "source": [
    "# Defining the chain configuration\n",
    "chain = eumdac.tailor_models.Chain(\n",
    "    product='HRSEVIRI',\n",
    "    format='png_rgb',\n",
    "    filter={\"bands\" : [\"channel_3\",\"channel_2\",\"channel_1\"]},\n",
    "    projection='geographic',\n",
    "    roi='west_africa'\n",
    ")\n",
    "# roi parameter above is a pre-defined one. It's possible to use \"roi=\" as follows \"{\"NSWE\" : [37,2,-19,21]}\"."
   ]
  },
  {
   "cell_type": "code",
   "execution_count": 28,
   "metadata": {},
   "outputs": [
    {
     "name": "stdout",
     "output_type": "stream",
     "text": [
      "Customisation d07d8abf started.\n"
     ]
    }
   ],
   "source": [
    "# Send the customisation to Data Tailor Web Services\n",
    "customisation = datatailor.new_customisation(latest, chain)\n",
    "\n",
    "try:\n",
    "    print(f\"Customisation {customisation._id} started.\")\n",
    "except eumdac.datatailor.DataTailorError as error:\n",
    "    print(f\"Error related to the Data Tailor: '{error.msg}'\")\n",
    "except requests.exceptions.RequestException as error:\n",
    "    print(f\"Unexpected error: {error}\")"
   ]
  },
  {
   "cell_type": "markdown",
   "metadata": {},
   "source": [
    "After the customisation has started, it's possible to run 'Customisation Loop' below. It checks the status of the customisation until the customisation is completed. While it loops, it prints the status of the job."
   ]
  },
  {
   "cell_type": "code",
   "execution_count": 29,
   "metadata": {},
   "outputs": [
    {
     "name": "stdout",
     "output_type": "stream",
     "text": [
      "Customisation d07d8abf is running.\n",
      "Customisation d07d8abf is running.\n",
      "Customisation d07d8abf is successfully completed.\n"
     ]
    }
   ],
   "source": [
    "status = customisation.status\n",
    "sleep_time = 10 # seconds\n",
    "\n",
    "# Customisation Loop\n",
    "while status:\n",
    "    # Get the status of the ongoing customisation\n",
    "    status = customisation.status\n",
    "\n",
    "    if \"DONE\" in status:\n",
    "        print(f\"Customisation {customisation._id} is successfully completed.\")\n",
    "        break\n",
    "    elif status in [\"ERROR\",\"FAILED\",\"DELETED\",\"KILLED\",\"INACTIVE\"]:\n",
    "        print(f\"Customisation {customisation._id} was unsuccessful. Customisation log is printed.\\n\")\n",
    "        print(customisation.logfile)\n",
    "        break\n",
    "    elif \"QUEUED\" in status:\n",
    "        print(f\"Customisation {customisation._id} is queued.\")\n",
    "    elif \"RUNNING\" in status:\n",
    "        print(f\"Customisation {customisation._id} is running.\")\n",
    "    time.sleep(sleep_time)"
   ]
  },
  {
   "cell_type": "markdown",
   "metadata": {},
   "source": [
    "We will show how to download the customised products at the end of the notebook."
   ]
  },
  {
   "cell_type": "markdown",
   "metadata": {},
   "source": [
    "#### How to list, create, delete saved configuration chains in Data Tailor"
   ]
  },
  {
   "cell_type": "markdown",
   "metadata": {},
   "source": [
    "It's possible to create and save a Data Tailor chain. But beware that **you don't need to save/delete chains in your everyday routine**. This optional functionality is meant for users who need to save or delete a chain. The Data Tailor has many pre-defined configurations. You can see all of them with below command."
   ]
  },
  {
   "cell_type": "code",
   "execution_count": 9,
   "metadata": {
    "scrolled": true
   },
   "outputs": [
    {
     "name": "stdout",
     "output_type": "stream",
     "text": [
      "Chain(id='aggregated_sst_western_europe', product='GLBSST', format='geotiff', name='Time aggregation of masked SST - Western Europe', description=None, aggregation='time', projection='geographic', roi='western_europe', filter=Filter(id=None, bands=['sea_surface_temperature'], name=None, product=None), quicklook=None, resample_method=None, resample_resolution=None, compression=None)\n",
      "---\n",
      "Chain(id='amsal1_aggregation_orbit', product='AMSAL1', format='geotiff', name='Aggregation orbit', description=None, aggregation='orbit', projection=None, roi=None, filter=None, quicklook=None, resample_method=None, resample_resolution=None, compression=None)\n",
      "---\n",
      "Chain(id='ascatl1szf_aggregation_orbit', product='ASCATL1SZF', format='geotiff', name='Aggregation orbit', description=None, aggregation='orbit', projection=None, roi=None, filter=None, quicklook=None, resample_method=None, resample_resolution=None, compression=None)\n",
      "---\n",
      "Chain(id='ascatl1szo_aggregation_orbit', product='ASCATL1SZO', format='geotiff', name='Aggregation orbit', description=None, aggregation='orbit', projection=None, roi=None, filter=None, quicklook=None, resample_method=None, resample_resolution=None, compression=None)\n",
      "---\n",
      "Chain(id='ascatl1szr_aggregation_orbit', product='ASCATL1SZR', format='geotiff', name='Aggregation orbit', description=None, aggregation='orbit', projection=None, roi=None, filter=None, quicklook=None, resample_method=None, resample_resolution=None, compression=None)\n",
      "---\n",
      "Chain(id='avhrrl1_10.785', product='AVHRRL1', format='geotiff', name='10.785 satellite geometry', description=None, aggregation=None, projection=None, roi=None, filter=Filter(id=None, bands=['channel_4'], name=None, product=None), quicklook=None, resample_method=None, resample_resolution=None, compression=None)\n",
      "---\n",
      "Chain(id='avhrrl1_aggregation_filter_proj_qlk', product='AVHRRL1', format='hdf5', name='aggregation-filter-proj-qlk', description=None, aggregation='orbit', projection='gall_stereographic', roi=None, filter=Filter(id=None, bands=['channel_1', 'channel_2', 'channel_3'], name=None, product=None), quicklook=Quicklook(id=None, name=None, resample_method='cubic', stretch_method=None, product=None, format='png_rgb', nodatacolor=None, filter=Filter(id=None, bands=['channel_1', 'channel_2', 'channel_3'], name=None, product=None), x_size=None), resample_method=None, resample_resolution=None, compression=None)\n",
      "---\n",
      "Chain(id='avhrrl1_aggregation_orbit', product='AVHRRL1', format='geotiff', name='Aggregation orbit', description=None, aggregation='orbit', projection=None, roi=None, filter=None, quicklook=None, resample_method=None, resample_resolution=None, compression=None)\n",
      "---\n",
      "Chain(id='avhrrl1_natural_color', product='AVHRRL1', format='jpeg_rgb', name='Natural color', description=None, aggregation=None, projection=None, roi=None, filter='avhrrl1_natural_color', quicklook=None, resample_method=None, resample_resolution=None, compression=None)\n",
      "---\n",
      "Chain(id='avhrrl1_natural_color_quicklook', product='AVHRRL1', format='netcdf4', name='Natural color with quicklook', description=None, aggregation=None, projection='geographic', roi=None, filter='avhrrl1_natural_color', quicklook=Quicklook(id=None, name=None, resample_method='cubic', stretch_method='min_max', product=None, format='jpeg_rgb', nodatacolor=None, filter='avhrrl1_natural_color', x_size=None), resample_method=None, resample_resolution=None, compression=None)\n",
      "---\n",
      "Chain(id='et_western_europe', product='MET', format='geotiff', name='ET geographic - Western Europe', description=None, aggregation=None, projection='geographic', roi='western_europe', filter=Filter(id=None, bands=['et'], name=None, product=None), quicklook=None, resample_method=None, resample_resolution=None, compression=None)\n",
      "---\n",
      "Chain(id='fapar_western_europe', product='MDFAPAR', format='geotiff', name='FAPAR geographic - Western Europe', description=None, aggregation=None, projection='geographic', roi='western_europe', filter=Filter(id=None, bands=['fapar'], name=None, product=None), quicklook=None, resample_method=None, resample_resolution=None, compression=None)\n",
      "---\n",
      "Chain(id='format_geotiff', product='AMSAL1', format='geotiff', name='Format GeoTiff', description=None, aggregation=None, projection=None, roi=None, filter=None, quicklook=None, resample_method=None, resample_resolution=None, compression=None)\n",
      "---\n",
      "Chain(id='geographic_aerosol_properties', product='GOME_PMA_AOP', format='geotiff', name='Aerosol optical properties - geographic', description=None, aggregation=None, projection='geographic', roi=None, filter=Filter(id=None, bands=['aerosol_optical_depth', 'aerosol_class'], name=None, product=None), quicklook=None, resample_method=None, resample_resolution=None, compression=None)\n",
      "---\n",
      "Chain(id='geographic_cloud_properties', product='GOME_PMA_COP', format='geotiff', name='Cloud optical properties - geographic', description=None, aggregation=None, projection='geographic', roi=None, filter=Filter(id=None, bands=['cloud_optical_depth', 'cloud_top_temperature'], name=None, product=None), quicklook=None, resample_method=None, resample_resolution=None, compression=None)\n",
      "---\n",
      "Chain(id='hirs_0.690', product='HIRSL1', format='geotiff', name='0.690 satellite geometry', description=None, aggregation=None, projection='geographic', roi=None, filter=Filter(id=None, bands=['channel_20'], name=None, product=None), quicklook=None, resample_method=None, resample_resolution=None, compression=None)\n",
      "---\n",
      "Chain(id='iasil1_spectra', product='IASIL1', format='netcdf4', name='Spectra measurements', description=None, aggregation=None, projection=None, roi=None, filter=Filter(id=None, bands=['gs_1c_spect'], name=None, product=None), quicklook=None, resample_method=None, resample_resolution=None, compression=None)\n",
      "---\n",
      "Chain(id='lst_western_europe', product='MLST', format='geotiff', name='LST geographic - Western Europe', description=None, aggregation=None, projection='geographic', roi='western_europe', filter=Filter(id=None, bands=['lst'], name=None, product=None), quicklook=None, resample_method=None, resample_resolution=None, compression=None)\n",
      "---\n",
      "Chain(id='metref_western_europe', product='METREF', format='geotiff', name='METREF geographic - Western Europe', description=None, aggregation=None, projection='geographic', roi='western_europe', filter=Filter(id=None, bands=['metref'], name=None, product=None), quicklook=None, resample_method=None, resample_resolution=None, compression=None)\n",
      "---\n",
      "Chain(id='mhsl1_aggregation_orbit', product='MHSL1', format='geotiff', name='Aggregation orbit', description=None, aggregation='orbit', projection=None, roi=None, filter=None, quicklook=None, resample_method=None, resample_resolution=None, compression=None)\n",
      "---\n",
      "Chain(id='msgclmk_cloud_mask', product='MSGCLMK', format='geotiff', name='Cloud Mask', description=None, aggregation=None, projection=None, roi=None, filter=Filter(id=None, bands=['cloud_mask'], name=None, product=None), quicklook=None, resample_method=None, resample_resolution=None, compression=None)\n",
      "---\n",
      "Chain(id='natural_color_disc', product='HRSEVIRI', format='geotiff', name='Natural color disc', description=None, aggregation=None, projection=None, roi=None, filter='hrseviri_natural_color', quicklook=None, resample_method=None, resample_resolution=None, compression=None)\n",
      "---\n",
      "Chain(id='projection_plate_carree_quicklook', product='HRSEVIRI', format='geotiff', name='Projection Plate-Carree with quick-look', description=None, aggregation=None, projection='geographic', roi='western_europe', filter='hrseviri_natural_color', quicklook=Quicklook(id=None, name=None, resample_method=None, stretch_method='min_max', product=None, format='png_rgb', nodatacolor=None, filter='hrseviri_natural_color', x_size=500), resample_method=None, resample_resolution=None, compression=None)\n",
      "---\n",
      "Chain(id='sea_surface_temperature', product='GLBSST', format='geotiff', name='Sea Surface Temperature', description=None, aggregation=None, projection=None, roi=None, filter=Filter(id=None, bands=['sea_surface_temperature'], name=None, product=None), quicklook=None, resample_method=None, resample_resolution=None, compression=None)\n",
      "---\n",
      "Chain(id='sst_western_europe', product='GLBSST', format='geotiff', name='SST - Western Europe', description=None, aggregation=None, projection='geographic', roi='western_europe', filter=Filter(id=None, bands=['sea_surface_temperature'], name=None, product=None), quicklook=None, resample_method=None, resample_resolution=None, compression=None)\n",
      "---\n",
      "Chain(id='sst_western_europe_qkl', product='GLBSST', format='geotiff', name='SST - Western Europe with quick-look', description=None, aggregation=None, projection='geographic', roi='western_europe', filter=Filter(id=None, bands=['sea_surface_temperature'], name=None, product=None), quicklook='glbsst_png_rgb', resample_method='cubic', resample_resolution=[0.05, 0.05], compression=None)\n",
      "---\n"
     ]
    }
   ],
   "source": [
    "for chain in datatailor.chains.search():\n",
    "    print(chain)\n",
    "    print('---')"
   ]
  },
  {
   "cell_type": "markdown",
   "metadata": {},
   "source": [
    "We can see many number of chain configurations are available for each product. These are the default saved configurations, you are able to define your own configuration(s) and save it to the Data Tailor for later use, or submit individual chain configurations with each request.You can see product-specific pre-defined chains with below command."
   ]
  },
  {
   "cell_type": "code",
   "execution_count": 36,
   "metadata": {
    "scrolled": true
   },
   "outputs": [
    {
     "name": "stdout",
     "output_type": "stream",
     "text": [
      "Chain(id='hrseviri_visir', product='HRSEVIRI', format='hrit', name='Native to hrit (VISIR)', description=None, aggregation=None, projection=None, roi=None, filter=None, quicklook=None, resample_method=None, resample_resolution=None, compression=None, xrit_segments=None)\n",
      "---\n",
      "Chain(id='projection_plate_carree_quicklook', product='HRSEVIRI', format='geotiff', name='Projection Plate-Carree with quick-look', description=None, aggregation=None, projection='geographic', roi='western_europe', filter='hrseviri_natural_color', quicklook=Quicklook(id=None, name=None, resample_method=None, stretch_method='min_max', product=None, format='png_rgb', nodatacolor=None, filter='hrseviri_natural_color', x_size=500), resample_method=None, resample_resolution=None, compression=None, xrit_segments=None)\n",
      "---\n",
      "Chain(id='zip_compression', product='HRSEVIRI', format='hrit', name='zip compression', description=None, aggregation=None, projection=None, roi=None, filter=None, quicklook=None, resample_method=None, resample_resolution=None, compression={'format': 'zip'}, xrit_segments=None)\n",
      "---\n"
     ]
    }
   ],
   "source": [
    "for chain in datatailor.chains.search(product=\"HRSEVIRI\"):\n",
    "    print(chain)\n",
    "    print('---')"
   ]
  },
  {
   "cell_type": "markdown",
   "metadata": {},
   "source": [
    "You're able to delete chains using below command."
   ]
  },
  {
   "cell_type": "code",
   "execution_count": 51,
   "metadata": {},
   "outputs": [],
   "source": [
    "try:\n",
    "    datatailor.chains.delete(\"natural_color_disc\")\n",
    "except eumdac.datatailor.DataTailorError as error:\n",
    "    print(f\"Error related to the Data Tailor: '{error.msg}'\")\n",
    "except requests.exceptions.RequestException as error:\n",
    "    print(f\"Unexpected error: {error}\")"
   ]
  },
  {
   "cell_type": "markdown",
   "metadata": {},
   "source": [
    "Let's see if the \"natural_color_disc\" is removed from HRSEVIRI pre-defined chains."
   ]
  },
  {
   "cell_type": "code",
   "execution_count": 48,
   "metadata": {},
   "outputs": [
    {
     "name": "stdout",
     "output_type": "stream",
     "text": [
      "Chain(id='hrseviri_visir', product='HRSEVIRI', format='hrit', name='Native to hrit (VISIR)', description=None, aggregation=None, projection=None, roi=None, filter=None, quicklook=None, resample_method=None, resample_resolution=None, compression=None, xrit_segments=None)\n",
      "---\n",
      "Chain(id='natural_color_disc', product='HRSEVIRI', format='geotiff', name='Natural color disc', description=None, aggregation=None, projection=None, roi=None, filter='hrseviri_natural_color', quicklook=None, resample_method=None, resample_resolution=None, compression=None, xrit_segments=None)\n",
      "---\n",
      "Chain(id='projection_plate_carree_quicklook', product='HRSEVIRI', format='geotiff', name='Projection Plate-Carree with quick-look', description=None, aggregation=None, projection='geographic', roi='western_europe', filter='hrseviri_natural_color', quicklook=Quicklook(id=None, name=None, resample_method=None, stretch_method='min_max', product=None, format='png_rgb', nodatacolor=None, filter='hrseviri_natural_color', x_size=500), resample_method=None, resample_resolution=None, compression=None, xrit_segments=None)\n",
      "---\n"
     ]
    }
   ],
   "source": [
    "for chain in datatailor.chains.search(product=\"HRSEVIRI\"):\n",
    "    print(chain)\n",
    "    print('---')"
   ]
  },
  {
   "cell_type": "markdown",
   "metadata": {},
   "source": [
    "Let's create that chain and check the HRSEVIRI chains again."
   ]
  },
  {
   "cell_type": "code",
   "execution_count": 52,
   "metadata": {},
   "outputs": [],
   "source": [
    "chain = eumdac.tailor_models.Chain(id='natural_color_disc', \n",
    "      product='HRSEVIRI', \n",
    "      format='geotiff',\n",
    "      name='Natural color disc',\n",
    "      filter='hrseviri_natural_color')\n",
    "\n",
    "try:\n",
    "    datatailor.chains.create(chain)\n",
    "except eumdac.datatailor.DataTailorError as error:\n",
    "    print(f\"Data Tailor Error\", error)\n",
    "except requests.exceptions.RequestException as error:\n",
    "    print(f\"Unexpected error: {error}\")"
   ]
  },
  {
   "cell_type": "code",
   "execution_count": 53,
   "metadata": {},
   "outputs": [
    {
     "name": "stdout",
     "output_type": "stream",
     "text": [
      "Chain(id='hrseviri_visir', product='HRSEVIRI', format='hrit', name='Native to hrit (VISIR)', description=None, aggregation=None, projection=None, roi=None, filter=None, quicklook=None, resample_method=None, resample_resolution=None, compression=None, xrit_segments=None)\n",
      "---\n",
      "Chain(id='natural_color_disc', product='HRSEVIRI', format='geotiff', name='Natural color disc', description=None, aggregation=None, projection=None, roi=None, filter='hrseviri_natural_color', quicklook=None, resample_method=None, resample_resolution=None, compression=None, xrit_segments=None)\n",
      "---\n",
      "Chain(id='projection_plate_carree_quicklook', product='HRSEVIRI', format='geotiff', name='Projection Plate-Carree with quick-look', description=None, aggregation=None, projection='geographic', roi='western_europe', filter='hrseviri_natural_color', quicklook=Quicklook(id=None, name=None, resample_method=None, stretch_method='min_max', product=None, format='png_rgb', nodatacolor=None, filter='hrseviri_natural_color', x_size=500), resample_method=None, resample_resolution=None, compression=None, xrit_segments=None)\n",
      "---\n"
     ]
    }
   ],
   "source": [
    "for chain in datatailor.chains.search(product=\"HRSEVIRI\"):\n",
    "    try:\n",
    "        print(chain)\n",
    "    except eumdac.datatailor.DataTailorError as error:\n",
    "        print(f\"Data Tailor Error\", error)\n",
    "    except requests.exceptions.RequestException as error:\n",
    "        print(f\"Unexpected error: {error}\")\n",
    "    print('---')"
   ]
  },
  {
   "cell_type": "markdown",
   "metadata": {},
   "source": [
    "Let's trigger a cutomisation with the saved chain. To use one of the saved configurations, you need to call them by their ID:"
   ]
  },
  {
   "cell_type": "code",
   "execution_count": 56,
   "metadata": {},
   "outputs": [],
   "source": [
    "natural_color_disc = datatailor.chains.read('natural_color_disc')"
   ]
  },
  {
   "cell_type": "markdown",
   "metadata": {},
   "source": [
    "Now, we have to define and start the customisation by calling the product and chain:"
   ]
  },
  {
   "cell_type": "code",
   "execution_count": 57,
   "metadata": {},
   "outputs": [
    {
     "name": "stdout",
     "output_type": "stream",
     "text": [
      "Customisation cf796feb started.\n"
     ]
    }
   ],
   "source": [
    "# Send the customisation to Data Tailor Web Services\n",
    "customisation = datatailor.new_customisation(latest, chain=natural_color_disc)\n",
    "\n",
    "try:\n",
    "    print(f\"Customisation {customisation._id} started.\")\n",
    "except eumdac.datatailor.CustomisationError as error:\n",
    "    print(f\"Data Tailor Error\", error)\n",
    "except requests.exceptions.RequestException as error:\n",
    "    print(f\"Unexpected error: {error}\")"
   ]
  },
  {
   "cell_type": "markdown",
   "metadata": {},
   "source": [
    "After the customisation has started, it's possible to run 'Customisation Loop' below. It checks the status of the customisation until the customisation is completed. While it loops, it prints the status of the job."
   ]
  },
  {
   "cell_type": "code",
   "execution_count": 17,
   "metadata": {},
   "outputs": [
    {
     "name": "stdout",
     "output_type": "stream",
     "text": [
      "Customisation dc14d444 is running.\n",
      "Customisation dc14d444 is running.\n",
      "Customisation dc14d444 is successfully completed.\n"
     ]
    }
   ],
   "source": [
    "status = customisation.status\n",
    "sleep_time = 10 # seconds\n",
    "\n",
    "# Customisation Loop\n",
    "while status:\n",
    "    # Get the status of the ongoing customisation\n",
    "    status = customisation.status\n",
    "\n",
    "    if \"DONE\" in status:\n",
    "        print(f\"Customisation {customisation._id} is successfully completed.\")\n",
    "        break\n",
    "    elif status in [\"ERROR\",\"FAILED\",\"DELETED\",\"KILLED\",\"INACTIVE\"]:\n",
    "        print(f\"Customisation {customisation._id} was unsuccessful. Customisation log is printed.\\n\")\n",
    "        print(customisation.logfile)\n",
    "        break\n",
    "    elif \"QUEUED\" in status:\n",
    "        print(f\"Customisation {customisation._id} is queued.\")\n",
    "    elif \"RUNNING\" in status:\n",
    "        print(f\"Customisation {customisation._id} is running.\")\n",
    "    time.sleep(sleep_time)"
   ]
  },
  {
   "cell_type": "markdown",
   "metadata": {},
   "source": [
    "#### Create a chain and trigger a customisation"
   ]
  },
  {
   "cell_type": "markdown",
   "metadata": {},
   "source": [
    "Let's finally create a customisation chain from scratch, send it to DTWS and download the output."
   ]
  },
  {
   "cell_type": "code",
   "execution_count": 60,
   "metadata": {},
   "outputs": [],
   "source": [
    "chain = eumdac.tailor_models.Chain(\n",
    "    id='hrseviri_nc_west-africa',\n",
    "    name='Native to PNG of West Africa',\n",
    "    description='Convert a SEVIRI Native product to PNG with subsetting the region of West Africa',\n",
    "    product='HRSEVIRI',\n",
    "    format='png_rgb',\n",
    "    filter='hrseviri_natural_color',\n",
    "    projection='geographic',\n",
    "    roi='west_africa')\n",
    "\n",
    "try:\n",
    "    datatailor.chains.create(chain)\n",
    "except eumdac.datatailor.DataTailorError as error:\n",
    "    print(f\"Data Tailor Error\", error)\n",
    "except requests.exceptions.RequestException as error:\n",
    "    print(f\"Unexpected error: {error}\")"
   ]
  },
  {
   "cell_type": "markdown",
   "metadata": {},
   "source": [
    "Let's check if saved chain is there."
   ]
  },
  {
   "cell_type": "code",
   "execution_count": 64,
   "metadata": {
    "scrolled": true
   },
   "outputs": [
    {
     "name": "stdout",
     "output_type": "stream",
     "text": [
      "Chain(id='hrseviri_visir', product='HRSEVIRI', format='hrit', name='Native to hrit (VISIR)', description=None, aggregation=None, projection=None, roi=None, filter=None, quicklook=None, resample_method=None, resample_resolution=None, compression=None, xrit_segments=None)\n",
      "---\n",
      "Chain(id='natural_color_disc', product='HRSEVIRI', format='geotiff', name='Natural color disc', description=None, aggregation=None, projection=None, roi=None, filter='hrseviri_natural_color', quicklook=None, resample_method=None, resample_resolution=None, compression=None, xrit_segments=None)\n",
      "---\n",
      "Chain(id='projection_plate_carree_quicklook', product='HRSEVIRI', format='geotiff', name='Projection Plate-Carree with quick-look', description=None, aggregation=None, projection='geographic', roi='western_europe', filter='hrseviri_natural_color', quicklook=Quicklook(id=None, name=None, resample_method=None, stretch_method='min_max', product=None, format='png_rgb', nodatacolor=None, filter='hrseviri_natural_color', x_size=500), resample_method=None, resample_resolution=None, compression=None, xrit_segments=None)\n",
      "---\n"
     ]
    }
   ],
   "source": [
    "for chain in datatailor.chains.search(product=\"HRSEVIRI\"):\n",
    "    try:\n",
    "        print(chain)\n",
    "    except eumdac.datatailor.DataTailorError as error:\n",
    "        print(f\"Data Tailor Error\", error)\n",
    "    except requests.exceptions.RequestException as error:\n",
    "        print(f\"Unexpected error: {error}\")\n",
    "    print('---')"
   ]
  },
  {
   "cell_type": "markdown",
   "metadata": {},
   "source": [
    "Now, we can start the customisation by calling the product and chain:"
   ]
  },
  {
   "cell_type": "code",
   "execution_count": 20,
   "metadata": {},
   "outputs": [
    {
     "name": "stdout",
     "output_type": "stream",
     "text": [
      "Customisation a7fcf12c started.\n"
     ]
    }
   ],
   "source": [
    "hrseviri_nc_west_africa = datatailor.chains.read('hrseviri_nc_west-africa')\n",
    "\n",
    "# Send the customisation to Data Tailor Web Services\n",
    "customisation = datatailor.new_customisation(latest, chain=hrseviri_nc_west_africa)\n",
    "\n",
    "try:\n",
    "    print(f\"Customisation {customisation._id} started.\")\n",
    "except eumdac.datatailor.CustomisationError as error:\n",
    "    print(f\"Data Tailor Error\", error)\n",
    "except requests.exceptions.RequestException as error:\n",
    "    print(f\"Unexpected error: {error}\")"
   ]
  },
  {
   "cell_type": "markdown",
   "metadata": {},
   "source": [
    "Let's use our loop to check if the job was successful."
   ]
  },
  {
   "cell_type": "code",
   "execution_count": 21,
   "metadata": {},
   "outputs": [
    {
     "name": "stdout",
     "output_type": "stream",
     "text": [
      "Customisation a7fcf12c is running.\n",
      "Customisation a7fcf12c is running.\n",
      "Customisation a7fcf12c is running.\n",
      "Customisation a7fcf12c is running.\n",
      "Customisation a7fcf12c is running.\n",
      "Customisation a7fcf12c is successfully completed.\n"
     ]
    }
   ],
   "source": [
    "status = customisation.status\n",
    "sleep_time = 10 # seconds\n",
    "\n",
    "# Customisation Loop\n",
    "while status:\n",
    "    # Get the status of the ongoing customisation\n",
    "    status = customisation.status\n",
    "\n",
    "    if \"DONE\" in status:\n",
    "        print(f\"Customisation {customisation._id} is successfully completed.\")\n",
    "        break\n",
    "    elif status in [\"ERROR\",\"FAILED\",\"DELETED\",\"KILLED\",\"INACTIVE\"]:\n",
    "        print(f\"Customisation {customisation._id} was unsuccessful. Customisation log is printed.\\n\")\n",
    "        print(customisation.logfile)\n",
    "        break\n",
    "    elif \"QUEUED\" in status:\n",
    "        print(f\"Customisation {customisation._id} is queued.\")\n",
    "    elif \"RUNNING\" in status:\n",
    "        print(f\"Customisation {customisation._id} is running.\")\n",
    "    time.sleep(sleep_time)"
   ]
  },
  {
   "cell_type": "markdown",
   "metadata": {},
   "source": [
    "### Downloading customised data\n",
    "\n",
    "In order to download the PNGs we just generated with the customisation, we need some standard Python libraries that we have to import."
   ]
  },
  {
   "cell_type": "code",
   "execution_count": 11,
   "metadata": {},
   "outputs": [],
   "source": [
    "import fnmatch\n",
    "import shutil"
   ]
  },
  {
   "cell_type": "markdown",
   "metadata": {},
   "source": [
    "We just want to get the PNG file, so we are creating a filter for it:"
   ]
  },
  {
   "cell_type": "code",
   "execution_count": 23,
   "metadata": {
    "scrolled": true
   },
   "outputs": [],
   "source": [
    "png, = fnmatch.filter(customisation.outputs, '*.png')"
   ]
  },
  {
   "cell_type": "markdown",
   "metadata": {},
   "source": [
    "Now, we can start the download with the following:"
   ]
  },
  {
   "cell_type": "code",
   "execution_count": 24,
   "metadata": {},
   "outputs": [
    {
     "name": "stdout",
     "output_type": "stream",
     "text": [
      "Dowloading the PNG output of the customisation a7fcf12c\n",
      "Dowloaded the PNG output of the customisation a7fcf12c\n"
     ]
    }
   ],
   "source": [
    "jobID= customisation._id\n",
    "\n",
    "print(f\"Dowloading the PNG output of the customisation {jobID}\")\n",
    "\n",
    "try:\n",
    "    with customisation.stream_output(png,) as stream, \\\n",
    "            open(stream.name, mode='wb') as fdst:\n",
    "        shutil.copyfileobj(stream, fdst)\n",
    "    print(f\"Dowloaded the PNG output of the customisation {jobID}\")\n",
    "except eumdac.datatailor.CustomisationError as error:\n",
    "    print(f\"Data Tailor Error\", error)\n",
    "except requests.exceptions.RequestException as error:\n",
    "    print(f\"Unexpected error: {error}\")"
   ]
  },
  {
   "cell_type": "markdown",
   "metadata": {},
   "source": [
    "### Clearing customisations from the Data Tailor\n",
    "\n",
    "The Data Tailor Web Service has a 20 Gb limit, so it's **important** to clear old customisations. To delete the customisation we have just created, simply call the delete function:"
   ]
  },
  {
   "cell_type": "code",
   "execution_count": 25,
   "metadata": {},
   "outputs": [],
   "source": [
    "try:\n",
    "    customisation.delete()\n",
    "except eumdac.datatailor.CustomisationError as exc:\n",
    "    print(\"Customisation Error:\", exc)\n",
    "except requests.exceptions.RequestException as error:\n",
    "    print(\"Unexpected error:\", error)"
   ]
  },
  {
   "cell_type": "markdown",
   "metadata": {},
   "source": [
    "More and complete information about clearing customisations from the Data Tailor can be found in our <a href=\"./2_Cleaning_the_Data_Tailor_workspace.ipynb\"> second notebook.</a>"
   ]
  },
  {
   "cell_type": "markdown",
   "metadata": {},
   "source": [
    "## Aggregating multiple products using EUMDAC Python\n",
    "\n",
    "As shown in the example above, using `datatailor.new_customisation` produces one job for one product. As a special case, there is a new interface `datatailor.new_customisations` that can be used to create a single job for multiple products when the tailoring chain contains an aggregation operation. This section provides an example on using this interface to aggregate multiple products.\n",
    "\n",
    "We first set the collection and other filtering parameters and list the products to be aggregated."
   ]
  },
  {
   "cell_type": "code",
   "execution_count": 7,
   "metadata": {},
   "outputs": [
    {
     "name": "stdout",
     "output_type": "stream",
     "text": [
      "Found Datasets: 5 datasets for the given time range\n",
      "S-OSI_-FRA_-MTOP-GLBSST_FIELD-202310031200Z\n",
      "S-OSI_-FRA_-MTOP-GLBSST_FIELD-202310030000Z\n",
      "S-OSI_-FRA_-MTOP-GLBSST_FIELD-202310021200Z\n",
      "S-OSI_-FRA_-MTOP-GLBSST_FIELD-202310020000Z\n",
      "S-OSI_-FRA_-MTOP-GLBSST_FIELD-202310011200Z\n"
     ]
    }
   ],
   "source": [
    "import datetime\n",
    "\n",
    "# Selecting the collection and product.\n",
    "selected_collection = datastore.get_collection('EO:EUM:DAT:METOP:GLB-SST-NC')\n",
    "\n",
    "# Set sensing start and end time\n",
    "start = datetime.datetime(2023, 10, 1, 9, 0)\n",
    "end = datetime.datetime(2023, 10, 3, 9, 0)\n",
    "\n",
    "selected_products = selected_collection.search(dtstart = start, dtend = end)\n",
    "print(f'Found Datasets: {selected_products.total_results} datasets for the given time range')\n",
    "for product in selected_products:\n",
    "    print(str(product))"
   ]
  },
  {
   "cell_type": "markdown",
   "metadata": {},
   "source": [
    "We create the tailoring chain with our desired customisation operations that include an aggregation operation."
   ]
  },
  {
   "cell_type": "code",
   "execution_count": 8,
   "metadata": {},
   "outputs": [],
   "source": [
    "# Creating custom tailoring chain.\n",
    "chain_agg = eumdac.tailor_models.Chain(product='GLBSST',\n",
    "                                       format='geotiff',\n",
    "                                       aggregation='time', # Aggregation in chain!\n",
    "                                       filter={\"bands\":['sea_surface_temperature']})"
   ]
  },
  {
   "cell_type": "markdown",
   "metadata": {},
   "source": [
    "We create a new job with all the selected products using the new_customisations interface. Since the tailoring chain contains an aggregation operation, the interface would return a list with a single element corresponding to the single job. We finally extract the list element."
   ]
  },
  {
   "cell_type": "code",
   "execution_count": 9,
   "metadata": {},
   "outputs": [],
   "source": [
    "# The `new_customisations` interface has the ability to return\n",
    "# single job for multiple products when the tailoring chain\n",
    "# contains an aggregation operation.\n",
    "customisation = datatailor.new_customisations(selected_products, chain=chain_agg)\n",
    "# Since there is an aggregation operation in the tailoring chain,\n",
    "# a single job will be created. Consequently, `customisation` is\n",
    "# a list with a single element.\n",
    "customisation = customisation[0]"
   ]
  },
  {
   "cell_type": "markdown",
   "metadata": {},
   "source": [
    "We define a time duration for the interval with which to query the status of the customisation. Once the customisation has finished, we download the result in the usual manner as described previously."
   ]
  },
  {
   "cell_type": "code",
   "execution_count": 12,
   "metadata": {},
   "outputs": [
    {
     "name": "stdout",
     "output_type": "stream",
     "text": [
      "Customisation 13c31242 is successfully completed.\n",
      "Downloading the output of the customisation 13c31242\n",
      "Download finished for customisation 13c31242.\n"
     ]
    }
   ],
   "source": [
    "sleep_time = 10 # seconds\n",
    "while True:\n",
    "    status = customisation.status\n",
    "    if \"DONE\" in status:\n",
    "        print(f\"Customisation {customisation._id} is successfully completed.\")\n",
    "        print(f\"Downloading the output of the customisation {customisation._id}\")\n",
    "        cust_files = fnmatch.filter(customisation.outputs, '*')[0]\n",
    "        with customisation.stream_output(cust_files) as stream, open(stream.name, mode='wb') as fdst:\n",
    "            shutil.copyfileobj(stream, fdst)\n",
    "        print(f\"Download finished for customisation {customisation._id}.\")\n",
    "        break\n",
    "    elif status in [\"ERROR\", \"FAILED\", \"DELETED\", \"KILLED\", \"INACTIVE\"]:\n",
    "        print(f\"Customisation {customisation._id} was unsuccessful. Customisation log is printed.\\n\")\n",
    "        print(customisation.logfile)\n",
    "        break\n",
    "    elif \"QUEUED\" in status:\n",
    "        print(f\"Customisation {customisation._id} is queued.\")\n",
    "    elif \"RUNNING\" in status:\n",
    "        print(f\"Customisation {customisation._id} is running.\")\n",
    "    time.sleep(sleep_time)"
   ]
  },
  {
   "cell_type": "markdown",
   "metadata": {},
   "source": [
    "This ends our example on how to perform remote customisations on Data Store products using the Data Tailor. Feel free to adapt this script to search for your own products of interest, and customise with your chains as required. Guidance on chain customisation can be found on our <a href=\"https://user.eumetsat.int/resources/user-guides/data-store-detailed-guide#ID-Understanding-configuring-and-using-chains\">Understanding, Configuring and Using Chains</a> page. If you need further help, you can contact us using the buttons at the bottom of the page."
   ]
  },
  {
   "cell_type": "markdown",
   "metadata": {},
   "source": [
    "<a href=\"./index.ipynb\">← Index</a>\n",
    "<br>\n",
    "<a href=\"./1_5_MTG_data_access.ipynb\">← Downloading and visualising MTG FCI products</a><span style=\"float:right;\"><a href=\"./2_2_Cleaning_the_Data_Tailor_workspace.ipynb\">Cleaning the Data Tailor workspace →</a>"
   ]
  },
  {
   "cell_type": "markdown",
   "metadata": {
    "Collapsed": "false"
   },
   "source": [
    "<p style=\"text-align:left;\">This project is licensed under the <a href=\"./LICENSE.TXT\">MIT License</a> <span style=\"float:right;\"><a href=\"https://gitlab.eumetsat.int/eumetlab/data-services/eumdac_data_store\">View on GitLab</a> | <a href=\"https://classroom.eumetsat.int/\">EUMETSAT Training</a> | <a href=mailto:ops@eumetsat.int>Contact</a></span></p>"
   ]
  },
  {
   "cell_type": "code",
   "execution_count": null,
   "metadata": {},
   "outputs": [],
   "source": []
  }
 ],
 "metadata": {
  "kernelspec": {
   "display_name": "Python 3 (ipykernel)",
   "language": "python",
   "name": "python3"
  },
  "language_info": {
   "codemirror_mode": {
    "name": "ipython",
    "version": 3
   },
   "file_extension": ".py",
   "mimetype": "text/x-python",
   "name": "python",
   "nbconvert_exporter": "python",
   "pygments_lexer": "ipython3",
   "version": "3.12.5"
  }
 },
 "nbformat": 4,
 "nbformat_minor": 4
}
