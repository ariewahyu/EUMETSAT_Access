{
 "cells": [
  {
   "cell_type": "markdown",
   "id": "c99fe5cb",
   "metadata": {},
   "source": [
    "<img src='./img/DataTailor_EUMETSAT.png'/>"
   ]
  },
  {
   "cell_type": "markdown",
   "id": "2ded2c10",
   "metadata": {},
   "source": [
    "Copyright (c) 2024 EUMETSAT <br>\n",
    "License: MIT"
   ]
  },
  {
   "cell_type": "markdown",
   "id": "78b585e5",
   "metadata": {},
   "source": [
    "<hr>"
   ]
  },
  {
   "cell_type": "markdown",
   "id": "b4772243",
   "metadata": {},
   "source": [
    "<a href=\"./index.ipynb\">← Index</a>\n",
    "<br>\n",
    "<a href=\"./2_1_Customising_products.ipynb\">← Using the EUMETSAT Data Tailor with EUMDAC</a><span style=\"float:right;\"><a href=\"./3_Data_Tailor_standalone.ipynb\">Using the EUMETSAT Data Tailor Standalone with EUMDAC →</a>"
   ]
  },
  {
   "cell_type": "markdown",
   "id": "219c4d5f",
   "metadata": {},
   "source": [
    "# Cleaning the Data Tailor workspace"
   ]
  },
  {
   "cell_type": "markdown",
   "id": "3c0e17c5",
   "metadata": {},
   "source": [
    "## What will this module teach you?\n",
    "\n",
    "This module will show you how to:<br>\n",
    "1. Retrieve all your customisation jobs\n",
    "2. Clear a specific job in your workspace\n",
    "3. Clear all the FAILED jobs in your workspace\n",
    "4. Clear all the jobs in your workspace"
   ]
  },
  {
   "cell_type": "markdown",
   "id": "a4adc952",
   "metadata": {},
   "source": [
    "## Prerequisites"
   ]
  },
  {
   "cell_type": "markdown",
   "id": "b7ec0d2e",
   "metadata": {},
   "source": [
    "In this section we will demonstrate how you can clean up the Data Tailor workspace after having used the Data Tailor web service to customise products selected from the Data Store. More information about this customisation can be found <a href=\"https://gitlab.eumetsat.int/eumetlab/data-services/eumetsat_data_tailor/-/blob/master/1_Using_the_Data_Tailor_REST_API.ipynb\"> here.</a>\n",
    "\n",
    "We begin, as before by importing our required modules. Notice that we are using the EUMDAC library, a Python interface from EUMETSAT to handle requests and responses of the APIs. We will explain the use of this library in this tutorial.\n",
    "\n",
    "**We need to install the library first!** An installation guide and further information about the usage of EUMDAC we will find here: https://user.eumetsat.int/resources/user-guides/eumetsat-data-access-client-eumdac-guide"
   ]
  },
  {
   "cell_type": "code",
   "execution_count": null,
   "id": "ca364c20-afa3-44fd-80f3-ac4ba117edda",
   "metadata": {},
   "outputs": [],
   "source": [
    "import eumdac\n",
    "import datetime\n",
    "import requests"
   ]
  },
  {
   "cell_type": "markdown",
   "id": "2c206a41-1c8f-4c01-8f41-b38f8169231c",
   "metadata": {},
   "source": [
    "Now, we have to authorize with our personal credentials to generate the token."
   ]
  },
  {
   "cell_type": "markdown",
   "id": "7a64b64a-43b4-4fc5-a9cd-ff2735652fd6",
   "metadata": {},
   "source": [
    "<div class=\"alert alert-block alert-success\">\n",
    "<b>NOTE:</b><br />\n",
    "You can find your personal API credentials here: <a href=\"https://api.eumetsat.int/api-key/\">https://api.eumetsat.int/api-key/</a>\n",
    "</div>"
   ]
  },
  {
   "cell_type": "code",
   "execution_count": null,
   "id": "f591d737-34f7-45a2-8c6c-add98ece95b5",
   "metadata": {},
   "outputs": [],
   "source": [
    "# Insert your personal key and secret into the single quotes\n",
    "\n",
    "consumer_key = 'YOUR_CONSUMER_KEY'\n",
    "consumer_secret = 'YOUR_CONSUMER_SECRET'\n",
    "\n",
    "credentials = (consumer_key, consumer_secret)\n",
    "\n",
    "token = eumdac.AccessToken(credentials)"
   ]
  },
  {
   "cell_type": "markdown",
   "id": "01d04c52-dd41-4186-afea-613f9739e738",
   "metadata": {},
   "source": [
    "<div class=\"alert alert-block alert-success\">\n",
    "<b>NOTE:</b><br />\n",
    "You can find your personal API credentials here: <a href=\"https://api.eumetsat.int/api-key/\">https://api.eumetsat.int/api-key/</a>\n",
    "</div>"
   ]
  },
  {
   "cell_type": "code",
   "execution_count": null,
   "id": "1a437687-78f1-400f-b9c6-91899c25a123",
   "metadata": {},
   "outputs": [],
   "source": [
    "try:\n",
    "    print(f\"This token '{token}' expires {token.expiration}\")\n",
    "except requests.exceptions.HTTPError as error:\n",
    "    print(f\"Error when trying the request to the server: '{error}'\")"
   ]
  },
  {
   "cell_type": "code",
   "execution_count": null,
   "id": "8f86d967-644b-4331-ba3a-b152f50b9f10",
   "metadata": {},
   "outputs": [],
   "source": [
    "datatailor = eumdac.DataTailor(token)"
   ]
  },
  {
   "cell_type": "markdown",
   "id": "e5c38b4b-fc7d-411b-a958-93ac67d57eac",
   "metadata": {},
   "source": [
    "## Cleaning the Data Tailor workspace\n",
    "\n",
    "### Defining a time window\n",
    "\n",
    "As mentioned earlier, we need to clean one or several customisation jobs performed with the Data Tailor. However, to be more efficient, we may also want to refine our search in time, so that we could be able to clear at once all the old products obtained over a specific time period. In this example, we will focus on all customisation jobs that are older than one month:"
   ]
  },
  {
   "cell_type": "code",
   "execution_count": null,
   "id": "0a6c2df4-f7e8-48b6-baa6-c1ac3ec645c0",
   "metadata": {},
   "outputs": [],
   "source": [
    "# Delete all customisations older than one month\n",
    "\n",
    "delete_datetime = datetime.datetime.combine(datetime.date.today() - datetime.timedelta(days=30), datetime.time(0, 0))\n",
    "\n",
    "for customisation in datatailor.customisations:\n",
    "    if customisation.creation_time <= delete_datetime:\n",
    "        try:\n",
    "            print(f'Delete customisation {customisation} from {customisation.creation_time} UTC.')\n",
    "            customisation.delete()\n",
    "        except eumdac.datatailor.CustomisationError as error:\n",
    "            print(f\"Customisation Error:'{error.msg}'\")\n",
    "        except requests.exceptions.RequestException as error:\n",
    "            print(f\"Unexpected error: {error}\")\n",
    "    else:\n",
    "        print(f\"Customisation {customisation} not older than 1 month.\")"
   ]
  },
  {
   "cell_type": "markdown",
   "id": "b83b7807-f138-4175-a861-f2c99bdf0ddb",
   "metadata": {},
   "source": [
    "### Clearing non-running customisations from the Data Tailor\n",
    "\n",
    "The Data Tailor Web Service has a 20 Gb limit for users, so it is wise to want to clear old products. However, we can choose to clear:\n",
    "- *all the jobs* at once\n",
    "- or only a *subset* of these jobs"
   ]
  },
  {
   "cell_type": "markdown",
   "id": "9ab79687-57e0-4446-befc-a6a8d8071da1",
   "metadata": {},
   "source": [
    "#### Clearing a single customisation from the Data Tailor\n",
    "\n",
    "Clearing only one specific customisation product can be done as follows:"
   ]
  },
  {
   "cell_type": "code",
   "execution_count": null,
   "id": "6292f33f-f887-492e-aa51-fd0550c62c3d",
   "metadata": {},
   "outputs": [],
   "source": [
    "# Individual clearing customisations from the Data Tailor\n",
    "\n",
    "jobID = '<YOUR_JOBID>'\n",
    "\n",
    "for customisation in datatailor.customisations:\n",
    "    if customisation._id == jobID:\n",
    "        print(f'Customisation {customisation._id} deleted, created on {customisation.creation_time} UTC.')\n",
    "        try:\n",
    "            customisation.delete()\n",
    "        except eumdac.datatailor.CustomisationError as error:\n",
    "            print(\"Customisation Error:\", error)\n",
    "        except requests.exceptions.RequestException as error:\n",
    "            print(\"Unexpected error:\", error)"
   ]
  },
  {
   "cell_type": "markdown",
   "id": "cfd21ea4-c06f-4930-a482-5e5bae0c1b4b",
   "metadata": {},
   "source": [
    "You would then only have to add your **job ID** into the above piece of code to delete the corresponding job from your workspace."
   ]
  },
  {
   "cell_type": "markdown",
   "id": "b4166ce2-b758-4c85-82fd-818d4fcbb56e",
   "metadata": {},
   "source": [
    "#### Clearing all FAILED customisations from the Data Tailor\n",
    "\n",
    "But you may also want to clear only all your FAILED customisation products. This can be done as follows: "
   ]
  },
  {
   "cell_type": "code",
   "execution_count": null,
   "id": "9ca2e497-3422-4765-b97e-2fe6306ecb88",
   "metadata": {},
   "outputs": [],
   "source": [
    "# Clearing all FAILED customisations from the Data Tailor\n",
    "\n",
    "for customisation in datatailor.customisations:\n",
    "    if customisation.status == 'FAILED':\n",
    "        print(f'Delete failed customisation {customisation} from {customisation.creation_time} UTC.')\n",
    "        try:\n",
    "            customisation.delete()\n",
    "        except eumdac.datatailor.CustomisationError as error:\n",
    "            print(\"Customisation Error:\", error)\n",
    "        except requests.exceptions.RequestException as error:\n",
    "            print(\"Unexpected error:\", error)"
   ]
  },
  {
   "cell_type": "markdown",
   "id": "b4a69155-183a-4477-9652-2ddd2f353c5d",
   "metadata": {},
   "source": [
    "#### Clearing all DONE customisations from the Data Tailor\n",
    "\n",
    "Should you now want to clean all your DONE customisation products, you could easily adapt the previous lines of code with the corresponding list of jobs:"
   ]
  },
  {
   "cell_type": "code",
   "execution_count": null,
   "id": "fb31b435-c331-44de-a133-afb441c095fa",
   "metadata": {},
   "outputs": [],
   "source": [
    "# Clearing all DONE customisations from the Data Tailor\n",
    "\n",
    "for customisation in datatailor.customisations:\n",
    "    if customisation.status == 'DONE':\n",
    "        print(f'Delete customisation {customisation} from {customisation.creation_time} UTC.')\n",
    "        try:\n",
    "            customisation.delete()\n",
    "        except eumdac.datatailor.CustomisationError as error:\n",
    "            print(\"Customisation Error:\", error)\n",
    "        except requests.exceptions.RequestException as error:\n",
    "            print(\"Unexpected error:\", error)"
   ]
  },
  {
   "cell_type": "markdown",
   "id": "42c4fca7-31b2-4ec0-b63c-25931ca5b14d",
   "metadata": {},
   "source": [
    "#### Clearing all (completed) customisations from the Data Tailor\n",
    "\n",
    "Finally, you may also want to clear all your non running customisation products over this period. This can be done as follows:"
   ]
  },
  {
   "cell_type": "code",
   "execution_count": null,
   "id": "bf73757f-8cd7-4e8b-b3cd-735544510594",
   "metadata": {},
   "outputs": [],
   "source": [
    "# Clearing all completed customisations from the Data Tailor\n",
    "\n",
    "for customisation in datatailor.customisations:\n",
    "    if customisation.status in ['DONE', 'FAILED', 'KILLED', 'DELETED']:\n",
    "        print(f'Delete completed customisation {customisation} from {customisation.creation_time} UTC.')\n",
    "        try:\n",
    "            customisation.delete()\n",
    "        except eumdac.datatailor.CustomisationError as error:\n",
    "            print(\"Customisation Error:\", error)\n",
    "        except requests.exceptions.RequestException as error:\n",
    "            print(\"Unexpected error:\", error)"
   ]
  },
  {
   "cell_type": "markdown",
   "id": "01ccdfab-ea47-42e8-8e83-fe4fb4e080c3",
   "metadata": {},
   "source": [
    "### Clearing stuck customisations from the Data Tailor\n",
    "As mentioned before, only the customisation jobs that completed can be removed. However, there exist a way to get rid of running jobs that wouldn't complete (INACTIVE status) or have been queued (QUEUED status).\n",
    "\n",
    "You may indeed need to clean up your QUEUED jobs or jobs that have been INACTIVE for too long, since they may prevent you from using the Data Tailor services due to the current cap limiting the number of parallel running job to 3.\n",
    "These QUEUED or INACTIVE jobs however cannot be removed as such. They need to be cancelled first. This can be done as follows :"
   ]
  },
  {
   "cell_type": "code",
   "execution_count": null,
   "id": "0b1372bd-0904-4992-9ad5-80de55a49307",
   "metadata": {},
   "outputs": [],
   "source": [
    "# Clearing QUEUED, INACTIVE or RUNNING customisations from the Data Tailor\n",
    "\n",
    "for customisation in datatailor.customisations:\n",
    "    if customisation.status in ['QUEUED', 'INACTIVE']:\n",
    "        customisation.kill()\n",
    "        print(f'Delete {customisation.status} customisation {customisation} from {customisation.creation_time} UTC.')\n",
    "        try:\n",
    "            customisation.delete()\n",
    "        except eumdac.datatailor.CustomisationError as error:\n",
    "            print(\"Customisation Error:\", error)\n",
    "        except requests.exceptions.RequestException as error:\n",
    "            print(\"Unexpected error:\", error)"
   ]
  },
  {
   "cell_type": "markdown",
   "id": "07d23f77",
   "metadata": {},
   "source": [
    "## Clearing all customisations"
   ]
  },
  {
   "cell_type": "markdown",
   "id": "2db88dfc",
   "metadata": {},
   "source": [
    "Below code will remove all the jobs either they are running, stuck or finished."
   ]
  },
  {
   "cell_type": "code",
   "execution_count": null,
   "id": "db15a113",
   "metadata": {},
   "outputs": [],
   "source": [
    "# Clearing all customisations from the Data Tailor\n",
    "\n",
    "for customisation in datatailor.customisations:\n",
    "    if customisation.status in ['QUEUED', 'INACTIVE', 'RUNNING']:\n",
    "        customisation.kill()\n",
    "        print(f'Delete {customisation.status} customisation {customisation} from {customisation.creation_time} UTC.')\n",
    "        try:\n",
    "            customisation.delete()\n",
    "        except eumdac.datatailor.CustomisationError as error:\n",
    "            print(\"Customisation Error:\", error)\n",
    "        except Exception as error:\n",
    "            print(\"Unexpected error:\", error)\n",
    "    else:\n",
    "        print(f'Delete completed customisation {customisation} from {customisation.creation_time} UTC.')\n",
    "        try:\n",
    "            customisation.delete()\n",
    "        except eumdac.datatailor.CustomisationError as error:\n",
    "            print(\"Customisation Error:\", error)\n",
    "        except requests.exceptions.RequestException as error:\n",
    "            print(\"Unexpected error:\", error)"
   ]
  },
  {
   "cell_type": "markdown",
   "id": "c3860752",
   "metadata": {},
   "source": [
    "That ends our example for clearing customisation jobs from the Data Tailor. Feel free to adapt this script to your very specific needs.\n",
    "If you need further help, you can contact us using the buttons at the bottom of the page."
   ]
  },
  {
   "cell_type": "markdown",
   "id": "e786d98c",
   "metadata": {},
   "source": [
    "<a href=\"./index.ipynb\">← Index</a>\n",
    "<br>\n",
    "<a href=\"./2_1_Customising_products.ipynb\">← Using the EUMETSAT Data Tailor with EUMDAC</a><span style=\"float:right;\"><a href=\"./3_Data_Tailor_standalone.ipynb\">Using the EUMETSAT Data Tailor Standalone with EUMDAC →</a>"
   ]
  },
  {
   "cell_type": "markdown",
   "id": "d08c2b80",
   "metadata": {},
   "source": [
    "<p style=\"text-align:left;\">This project is licensed under the <a href=\"./LICENSE.TXT\">MIT License</a> <span style=\"float:right;\"><a href=\"https://gitlab.eumetsat.int/eumetlab/data-services/eumdac_data_store\">View on GitLab</a> | <a href=\"https://classroom.eumetsat.int/\">EUMETSAT Training</a> | <a href=mailto:ops@eumetsat.int>Contact</a></span></p>"
   ]
  },
  {
   "cell_type": "code",
   "execution_count": null,
   "id": "a1367ca6-0ce6-4c5f-811e-faa0f93f6d06",
   "metadata": {},
   "outputs": [],
   "source": []
  }
 ],
 "metadata": {
  "kernelspec": {
   "display_name": "Python 3 (ipykernel)",
   "language": "python",
   "name": "python3"
  },
  "language_info": {
   "codemirror_mode": {
    "name": "ipython",
    "version": 3
   },
   "file_extension": ".py",
   "mimetype": "text/x-python",
   "name": "python",
   "nbconvert_exporter": "python",
   "pygments_lexer": "ipython3",
   "version": "3.10.14"
  }
 },
 "nbformat": 4,
 "nbformat_minor": 5
}
