{
 "cells": [
  {
   "cell_type": "markdown",
   "metadata": {
    "Collapsed": "false"
   },
   "source": [
    "![DT Standalone + EUMDAC](./img/DataTailor_EUMETSAT.png)"
   ]
  },
  {
   "cell_type": "markdown",
   "metadata": {},
   "source": [
    "Copyright (c) 2024 EUMETSAT  \n",
    "License: MIT"
   ]
  },
  {
   "cell_type": "markdown",
   "metadata": {
    "Collapsed": "false"
   },
   "source": [
    "<hr>"
   ]
  },
  {
   "cell_type": "markdown",
   "metadata": {},
   "source": [
    "<a href=\"./index.ipynb\">← Index</a>\n",
    "<br>\n",
    "<a href=\"./2_2_Cleaning_the_Data_Tailor_workspace.ipynb\">← Cleaning the Data Tailor workspace</a><span style=\"float:right;\"><a href=\"./4_EUMDAC-Cookbook.ipynb\">EUMDAC Cookbook →</a>"
   ]
  },
  {
   "cell_type": "markdown",
   "metadata": {
    "Collapsed": "false"
   },
   "source": [
    "## Using the EUMETSAT Data Tailor Standalone with EUMDAC"
   ]
  },
  {
   "cell_type": "markdown",
   "metadata": {},
   "source": [
    "#### What will this module teach you?\n",
    "\n",
    "This module will show you how to:\n",
    "1. Select a range products from the **Data Store** via EUMDAC library\n",
    "2. Pass the downloaded product to the **Data Tailor Standalone**\n",
    "3. Retrieve your customised products\n",
    "\n",
    "#### Prerequisites:\n",
    "For this workflow you will need a conda environment with below software installed.\n",
    "1. EUMETSAT Data Access Client (https://user.eumetsat.int/resources/user-guides/eumetsat-data-access-client-eumdac-guide)\n",
    "2. The Data Tailor Standalone (https://user.eumetsat.int/resources/user-guides/data-tailor-standalone-guide)\n",
    "3. Jupyter Notebook (https://anaconda.org/conda-forge/jupyter/)\n",
    "\n",
    "**Note:** You should run this notebook in the same environment as you have your local Data Tailor instance installed."
   ]
  },
  {
   "cell_type": "markdown",
   "metadata": {},
   "source": [
    "### Use EUMDAC library\n",
    "\n",
    "In this section we will demonstrate how you can use the **EUMETSAT Data Access Client (EUMDAC)** to download products you select from the Data Store. The products will be downloaded in their **native/default format**.\n",
    "\n",
    "#### Authentication\n",
    "\n",
    "After installing the EUMDAC we are calling the **token**. It takes care of requesting a new value after expiration."
   ]
  },
  {
   "cell_type": "code",
   "execution_count": null,
   "metadata": {},
   "outputs": [],
   "source": [
    "# Import the library EUMDAC\n",
    "import eumdac\n",
    "\n",
    "# Import the DT Standalone library\n",
    "from epct import api\n",
    "\n",
    "# Import other necassery libraries\n",
    "import time\n",
    "import requests\n",
    "import datetime\n",
    "import shutil\n",
    "import os\n",
    "import glob"
   ]
  },
  {
   "cell_type": "code",
   "execution_count": null,
   "metadata": {},
   "outputs": [],
   "source": [
    "# Insert your personal key and secret into the single quotes\n",
    "\n",
    "consumer_key = 'YOUR_CONSUMER_KEY'\n",
    "consumer_secret = 'YOUR_CONSUMER_SECRET'\n",
    "\n",
    "credentials = (consumer_key, consumer_secret)\n",
    "\n",
    "token = eumdac.AccessToken(credentials)"
   ]
  },
  {
   "cell_type": "markdown",
   "metadata": {},
   "source": [
    "<div class=\"alert alert-block alert-success\">\n",
    "<b>NOTE:</b><br />\n",
    "You can find your personal API credentials here: <a href=\"https://api.eumetsat.int/api-key/\">https://api.eumetsat.int/api-key/</a>\n",
    "</div>"
   ]
  },
  {
   "cell_type": "code",
   "execution_count": null,
   "metadata": {},
   "outputs": [],
   "source": [
    "try:\n",
    "    print(f\"This token '{token}' expires {token.expiration}\")\n",
    "except requests.exceptions.HTTPError as exc:\n",
    "    print(f\"Error when trying the request to the server: '{exc}'\")"
   ]
  },
  {
   "cell_type": "markdown",
   "metadata": {},
   "source": [
    "### Selecting and downloading a range of products from the Data Store\n",
    "\n",
    "For this demonstration, we are going to select a range of Level 1.5 SEVIRI products (collection ID: EO:EUM:DAT:MSG:HRSEVIRI) and download those. This sensor is aboard the geostationary MSG platform."
   ]
  },
  {
   "cell_type": "code",
   "execution_count": null,
   "metadata": {},
   "outputs": [],
   "source": [
    "# Feed the eumdac datastore module with API token\n",
    "datastore = eumdac.DataStore(token)\n",
    "\n",
    "# Select the collection\n",
    "selected_collection = datastore.get_collection('EO:EUM:DAT:MSG:HRSEVIRI')\n",
    "\n",
    "# Define data/time search filters\n",
    "start = datetime.datetime(2022, 9, 22, 19, 20)\n",
    "end = datetime.datetime(2022, 9, 22, 19, 50)\n",
    "\n",
    "# Retrieve datasets that match our filter\n",
    "products = selected_collection.search(\n",
    "    dtstart=start, \n",
    "    dtend=end,\n",
    "    sort=\"start,time,1\")"
   ]
  },
  {
   "cell_type": "code",
   "execution_count": null,
   "metadata": {},
   "outputs": [],
   "source": [
    "# Print found datasets\n",
    "try:\n",
    "    print(f'Found {products.total_results} datasets for the given time range:') \n",
    "    for product in products:\n",
    "        print(product)\n",
    "except eumdac.collection.CollectionError as error:\n",
    "    print(f\"Error related to the collection: '{error.msg}'\")\n",
    "except requests.exceptions.RequestException as error:\n",
    "    print(f\"Unexpected error: {error}\")"
   ]
  },
  {
   "cell_type": "markdown",
   "metadata": {},
   "source": [
    "## Downloading & Customising products with EUMDAC + the Data Tailor Standalone\n",
    "\n",
    "Now that we have the products found, we can go ahead and download & tailor our products. We will use EUMDAC to download products and DT Standalone to customise them inside a single loop. \n",
    "\n",
    "Modify your chain configuration and target directory:"
   ]
  },
  {
   "cell_type": "code",
   "execution_count": 5,
   "metadata": {},
   "outputs": [],
   "source": [
    "# Define a chain configuration for customising the products\n",
    "chain_config = {\n",
    "    'product': 'HRSEVIRI',\n",
    "    'format': 'jpeg_rgb',\n",
    "    'filter': {\"bands\" : [\"channel_3\",\"channel_2\",\"channel_1\"]}\n",
    "                }\n",
    "\n",
    "# Define your target folder for downloads (Note: The directory need to exist before you proceed.)\n",
    "target_dir = \"/home/USERNAME/eumdac_data_store/\""
   ]
  },
  {
   "cell_type": "markdown",
   "metadata": {},
   "source": [
    "<div class=\"alert alert-block alert-info\">\n",
    "<b>NOTE:</b> Guidance on chain customisation can be found on our <a href=\"https://user.eumetsat.int/resources/user-guides/data-store-detailed-guide#ID-Understanding-configuring-and-using-chains\">Understanding, Configuring and Using Chains</a> page.\n",
    "</div>\n",
    "\n",
    "Now, we can run the following code cell to loop through our downloaded products and customising them with our running Data Tailor instance:"
   ]
  },
  {
   "cell_type": "code",
   "execution_count": null,
   "metadata": {},
   "outputs": [],
   "source": [
    "for product in products:\n",
    "\n",
    "    # Open the source file associated with the product for reading\n",
    "    with product.open() as source_file:  \n",
    "        destination_file_name = source_file.name\n",
    "        # Open (or create) the destination file for writing binary data\n",
    "        with open(destination_file_name, mode='wb') as destination_file:\n",
    "            print(f'Download of product {product} started.')\n",
    "            shutil.copyfileobj(source_file, destination_file)\n",
    "        print(f'Download of product {product} finished. Customisation is starting.')\n",
    "\n",
    "        filename = str(product)+'.zip'\n",
    "        # change to DT standalone\n",
    "        output_files = api.run_chain(\n",
    "            product_paths=[filename],\n",
    "            chain_config=chain_config,\n",
    "            target_dir=target_dir\n",
    "        )\n",
    "\n",
    "        print(\"Customisation is finished and saved to:\",output_files)\n",
    "\n",
    "        if os.path.exists(filename):\n",
    "            os.remove(filename)\n",
    "            print(f\"Downloaded product {filename} has been deleted.\")\n",
    "        else:\n",
    "            print(f\"Downloaded product {filename} does not exist.\")\n",
    "\n",
    "    # Pattern match for files ending with .aux.xml\n",
    "    for filepath in glob.glob(f'{target_dir}*.aux.xml'):\n",
    "        os.remove(filepath)\n",
    "        print(f'Removed: {filepath}')\n",
    "\n",
    "    # Pattern match for files ending with .wld\n",
    "    for filepath in glob.glob(f'{target_dir}*.wld'):\n",
    "        os.remove(filepath)\n",
    "        print(f'Removed: {filepath}')"
   ]
  },
  {
   "cell_type": "markdown",
   "metadata": {},
   "source": [
    "This ends our example on how to perform an end-to-end workflow on Data Store products, downloading them first and then using the Data Tailor standalone to customise them.\n",
    "\n",
    "A comprehensive guide on how to use EUMDAC with the Data Tailor Standalone, can be find in our user guide: https://user.eumetsat.int/resources/user-guides/eumetsat-data-access-client-eumdac-guide#ID-Data-Tailor-Standalone-in-EUMDAC"
   ]
  },
  {
   "cell_type": "markdown",
   "metadata": {},
   "source": [
    "<a href=\"./index.ipynb\">← Index</a>\n",
    "<br>\n",
    "<a href=\"./2_2_Cleaning_the_Data_Tailor_workspace.ipynb\">← Cleaning the Data Tailor workspace</a><span style=\"float:right;\"><a href=\"./4_EUMDAC-Cookbook.ipynb\">EUMDAC Cookbook →</a>"
   ]
  },
  {
   "cell_type": "markdown",
   "metadata": {
    "Collapsed": "false"
   },
   "source": [
    "<p style=\"text-align:left;\">This project is licensed under the <a href=\"./LICENSE.TXT\">MIT License</a> <span style=\"float:right;\"><a href=\"https://gitlab.eumetsat.int/eumetlab/data-services/eumdac_data_store\">View on GitLab</a> | <a href=\"https://classroom.eumetsat.int/\">EUMETSAT Training</a> | <a href=mailto:ops@eumetsat.int>Contact</a></span></p>"
   ]
  }
 ],
 "metadata": {
  "kernelspec": {
   "display_name": "Python 3 (ipykernel)",
   "language": "python",
   "name": "python3"
  },
  "language_info": {
   "codemirror_mode": {
    "name": "ipython",
    "version": 3
   },
   "file_extension": ".py",
   "mimetype": "text/x-python",
   "name": "python",
   "nbconvert_exporter": "python",
   "pygments_lexer": "ipython3",
   "version": "3.11.9"
  }
 },
 "nbformat": 4,
 "nbformat_minor": 4
}
