{
 "cells": [
  {
   "cell_type": "markdown",
   "metadata": {
    "Collapsed": "false"
   },
   "source": [
    "<img src='./img/DataStore_EUMETSAT.png'/>"
   ]
  },
  {
   "cell_type": "markdown",
   "metadata": {},
   "source": [
    "Copyright (c) 2024 EUMETSAT <br>\n",
    "License: MIT"
   ]
  },
  {
   "cell_type": "markdown",
   "metadata": {
    "Collapsed": "false"
   },
   "source": [
    "<hr>"
   ]
  },
  {
   "cell_type": "markdown",
   "metadata": {
    "Collapsed": "false"
   },
   "source": [
    "<a href=\"./index.ipynb\">← Index</a>\n",
    "<br>\n",
    "<a href=\"./1_1_Discovering_collections.ipynb\">← Discovering collections</a>&nbsp;&nbsp;&nbsp;<span style=\"float:right;\"><a href=\"./1_3_Downloading_products.ipynb\">Downloading products →</a>"
   ]
  },
  {
   "cell_type": "markdown",
   "metadata": {},
   "source": [
    "# Searching and filtering products in a collection"
   ]
  },
  {
   "cell_type": "markdown",
   "metadata": {},
   "source": [
    "## What will this module teach you?\n",
    "\n",
    "This module will show you how to:<br>\n",
    "\n",
    "\n",
    "1. **Filter Datasets**\n",
    "2. **How to Use EUMDAC for Searching Products**\n",
    " - Filter by the Latest Product\n",
    " - Filter Products by (Rectangular) Area of Interest\n",
    " - Filter Products by (Polygonal) Area of Interest\n",
    " - Filter Products by Sensing Time\n",
    " - Filter Products by Publication Time\n",
    " \n",
    "3. **List Found Products**"
   ]
  },
  {
   "cell_type": "markdown",
   "metadata": {},
   "source": [
    "## 1. Filter Datasets\n",
    "In this section we demonstrate the retrieval of datasets from a collection by applying filtering parameters.\n",
    "\n",
    "We begin as before by importing our required modules. Notice that we are using the EUMDAC library, a Python interface from EUMETSAT to handle requests and responses of the APIs. We will explain the use of this library in this tutorial.\n",
    "\n",
    "**We need to install the library first!** An installation guide and further information about the usage of EUMDAC we will find here: https://user.eumetsat.int/resources/user-guides/eumetsat-data-access-client-eumdac-guide"
   ]
  },
  {
   "cell_type": "code",
   "execution_count": 2,
   "metadata": {},
   "outputs": [],
   "source": [
    "import eumdac\n",
    "from IPython.core.display import HTML\n",
    "import datetime\n",
    "import requests"
   ]
  },
  {
   "cell_type": "markdown",
   "metadata": {},
   "source": [
    "Now, we have to authorize with our personal credentials to generate the token."
   ]
  },
  {
   "cell_type": "markdown",
   "metadata": {},
   "source": [
    "<div class=\"alert alert-block alert-success\">\n",
    "<b>NOTE:</b><br />\n",
    "You can find your personal API credentials here: <a href=\"https://api.eumetsat.int/api-key/\">https://api.eumetsat.int/api-key/</a>\n",
    "</div>"
   ]
  },
  {
   "cell_type": "code",
   "execution_count": 3,
   "metadata": {},
   "outputs": [
    {
     "name": "stdout",
     "output_type": "stream",
     "text": [
      "This token '6951c87f-951c-3de5-bb5d-dbb366abd219' expires 2024-02-20 14:00:06.909733\n"
     ]
    }
   ],
   "source": [
    "# Insert your personal key and secret into the single quotes\n",
    "\n",
    "consumer_key = 'YOUR_CONSUMER_KEY'\n",
    "consumer_secret =  'YOUR_CONSUMER_SECRET'\n",
    "\n",
    "credentials = (consumer_key, consumer_secret)\n",
    "\n",
    "token = eumdac.AccessToken(credentials)\n",
    "\n",
    "try:\n",
    "    print(f\"This token '{token}' expires {token.expiration}\")\n",
    "except requests.exceptions.HTTPError as exc:\n",
    "    print(f\"Error when tryng the request to the server: '{exc}'\")"
   ]
  },
  {
   "cell_type": "markdown",
   "metadata": {},
   "source": [
    "Before we start, we have to select a collection we want to browse through. For more information on determining which collections are available, see the previous tutorial, <a href=\"./1_Discovering_collections.ipynb\">Discovering collections</a>"
   ]
  },
  {
   "cell_type": "code",
   "execution_count": 4,
   "metadata": {},
   "outputs": [],
   "source": [
    "datastore = eumdac.DataStore(token)\n",
    "selected_collection = datastore.get_collection('EO:EUM:DAT:METOP:IASSND02')"
   ]
  },
  {
   "cell_type": "markdown",
   "metadata": {},
   "source": [
    "## 2. How to use EUMDAC for searcing products"
   ]
  },
  {
   "cell_type": "markdown",
   "metadata": {},
   "source": [
    "Different collections can offer different search options. To know by which parameters we can define our search, we can call the following function:"
   ]
  },
  {
   "cell_type": "code",
   "execution_count": 5,
   "metadata": {
    "tags": []
   },
   "outputs": [
    {
     "data": {
      "text/plain": [
       "{'bbox': {'title': 'Inventory which has a spatial extent overlapping this bounding box',\n",
       "  'options': []},\n",
       " 'geo': {'title': 'Inventory which has a spatial extent overlapping this Well Known Text geometry',\n",
       "  'options': []},\n",
       " 'title': {'title': 'Can be used to define a wildcard search on the product title (product identifier), use set notation as OR and space as AND operator between multiple search terms',\n",
       "  'options': [None]},\n",
       " 'sat': {'title': 'Mission / Satellite',\n",
       "  'options': ['Metop-A', 'Metop-B', 'Metop-C']},\n",
       " 'type': {'title': 'Product Type', 'options': ['IASSND02']},\n",
       " 'dtstart': {'title': 'Temporal Start', 'options': []},\n",
       " 'dtend': {'title': 'Temporal End', 'options': []},\n",
       " 'publication': {'title': 'publication date', 'options': []},\n",
       " 'zone': {'title': 'Equi7grid main continental zone',\n",
       "  'options': ['NA', 'AN', 'OC', 'AS', 'EU', 'SA', 'AF']},\n",
       " 't6': {'title': 'Equi7grid 600km tile', 'options': []},\n",
       " 'orbit': {'title': 'Orbit Number, must be a positive integer', 'options': []},\n",
       " 'sort': {'title': 'SRU sort keys, see OpenSearch Extension for EO for details',\n",
       "  'options': ['publicationDate', 'start,time']},\n",
       " 'set': {'title': 'element set to return for each hit, default is full',\n",
       "  'options': ['full', 'brief']}}"
      ]
     },
     "metadata": {},
     "output_type": "display_data"
    }
   ],
   "source": [
    "try:\n",
    "    display(selected_collection.search_options)\n",
    "except eumdac.datastore.DataStoreError as error:\n",
    "    print(f\"Error related to the data store: '{error.msg}'\")\n",
    "except eumdac.collection.CollectionError as error:\n",
    "    print(f\"Error related to the collection: '{error.msg}'\")\n",
    "except requests.exceptions.RequestException as error:\n",
    "    print(f\"Unexpected error: {error}\")"
   ]
  },
  {
   "cell_type": "markdown",
   "metadata": {},
   "source": [
    "As an answer we get all parameters we can use for our search including some specifications to the parameters. This includes start and end time, spatial extent, satellites and many more."
   ]
  },
  {
   "cell_type": "markdown",
   "metadata": {},
   "source": [
    "<div class=\"alert alert-block alert-success\">\n",
    "<b>NOTE:</b><br />\n",
    "Find more information about EUMDAC errors, their causes and possible solutions, in our knowledge base: <a href=\"https://user.eumetsat.int/resources/user-guides/eumetsat-data-access-client-eumdac-guide#ID-Exception-handling\">https://user.eumetsat.int/resources/user-guides/eumetsat-data-access-client-eumdac-guide#ID-Exception-handling</a>\n",
    "</div>"
   ]
  },
  {
   "cell_type": "markdown",
   "metadata": {},
   "source": [
    "### - Filter by the Latest Product"
   ]
  },
  {
   "cell_type": "markdown",
   "metadata": {},
   "source": [
    "The most simple case for a search is to get the latest product of our selected collection. We just need two lines of code to do this:"
   ]
  },
  {
   "cell_type": "code",
   "execution_count": 5,
   "metadata": {
    "scrolled": true
   },
   "outputs": [
    {
     "name": "stdout",
     "output_type": "stream",
     "text": [
      "IASI_SND_02_M01_20240220084754Z_20240220102953Z_N_O_20240220095048Z\n"
     ]
    }
   ],
   "source": [
    "latest = selected_collection.search().first()\n",
    "\n",
    "try:\n",
    "    print(latest)\n",
    "except eumdac.collection.CollectionError as error:\n",
    "    print(f\"Error related to the collection: '{error.msg}'\")\n",
    "except requests.exceptions.RequestException as error:\n",
    "    print(f\"Unexpected error: {error}\")"
   ]
  },
  {
   "cell_type": "markdown",
   "metadata": {},
   "source": [
    "The `first()` function returns the first object. The products of a collection are sorted by date and time in descending order. So this means that the `first()` function will give us the latest product of our selected collection."
   ]
  },
  {
   "cell_type": "markdown",
   "metadata": {},
   "source": [
    "### - Filter by the Satellite Type"
   ]
  },
  {
   "cell_type": "markdown",
   "metadata": {},
   "source": [
    "The cell below shows, how to filter products for a satellite type.\n",
    "\n",
    "**Parameters**\n",
    "- **sat**: Mission / Satellite"
   ]
  },
  {
   "cell_type": "code",
   "execution_count": 6,
   "metadata": {},
   "outputs": [
    {
     "name": "stdout",
     "output_type": "stream",
     "text": [
      "Found Datasets: 22026 datasets for the given satellite type.\n"
     ]
    }
   ],
   "source": [
    "satellite_type = \"Metop-C\"\n",
    "products = selected_collection.search(sat=satellite_type)\n",
    "\n",
    "try:\n",
    "    print(f'Found Datasets: {products.total_results} datasets for the given satellite type.')\n",
    "except eumdac.collection.CollectionError as error:\n",
    "    print(f\"Error related to the collection: '{error.msg}'\")\n",
    "except requests.exceptions.RequestException as error:\n",
    "    print(f\"Unexpected error: {error}\")"
   ]
  },
  {
   "cell_type": "markdown",
   "metadata": {},
   "source": [
    "### - Filter Datasets by (Rectangular) Area of Interest\n",
    "\n",
    "What if we want to refine our search to only cover a given area? In the cell below we search for products in our selected collection within a given geospatial rectangle. The rectangle is defined by two coordinates which represent its two opposing corners (bottom left, top right).\n",
    "\n",
    "**Parameters**\n",
    "- **bbox**: Corner points of rectangular geographical area of interest using EPSG:4326 decimal degrees<br>(e.g. bbox=2.0,10.0,10.0,52.0)"
   ]
  },
  {
   "cell_type": "code",
   "execution_count": 7,
   "metadata": {},
   "outputs": [],
   "source": [
    "# Set bounding-box coordinates\n",
    "area = '-11.78, 50.95, -2.78, 58.41'\n",
    "# Retrieve datasets that match our filter\n",
    "products = selected_collection.search(bbox=area)"
   ]
  },
  {
   "cell_type": "code",
   "execution_count": 8,
   "metadata": {},
   "outputs": [
    {
     "name": "stdout",
     "output_type": "stream",
     "text": [
      "Found Datasets: 38841 datasets for the given area of interest\n"
     ]
    }
   ],
   "source": [
    "try:\n",
    "    print(f'Found Datasets: {products.total_results} datasets for the given area of interest')\n",
    "except eumdac.collection.CollectionError as error:\n",
    "    print(f\"Error related to the collection: '{error.msg}'\")\n",
    "except requests.exceptions.RequestException as error:\n",
    "    print(f\"Unexpected error: {error}\")"
   ]
  },
  {
   "cell_type": "markdown",
   "metadata": {},
   "source": [
    "### - Filter Datasets by (Polygonal) Area of Interest\n",
    "We can do the same with with a custom geometry. In the cell below we search for products for our selected collection within a given geospatial polygon.<br>The polygon is defined by multiple coordinates which represent the corners of its shape.\n",
    "\n",
    "**Parameters**\n",
    "- **geo**: a custom geomtery in [Well Known Text format](https://en.wikipedia.org/wiki/Well-known_text_representation_of_geometry), using EPSG:4326 decimal degrees"
   ]
  },
  {
   "cell_type": "code",
   "execution_count": 7,
   "metadata": {},
   "outputs": [],
   "source": [
    "# Add vertices for polygon, wrapping back to the start point.\n",
    "geometry = \"POLYGON((-1.0 -1.0,4.0 -4.0,8.0 -2.0,9.0 2.0,6.0 4.0,1.0 5.0,-1.0 -1.0))\"\n",
    "# Retrieve datasets that match our filter\n",
    "products = selected_collection.search(geo=geometry)"
   ]
  },
  {
   "cell_type": "code",
   "execution_count": 11,
   "metadata": {},
   "outputs": [
    {
     "name": "stdout",
     "output_type": "stream",
     "text": [
      "Found Datasets: 21609 datasets for the given time range\n"
     ]
    }
   ],
   "source": [
    "try:\n",
    "    print(f'Found Datasets: {products.total_results} datasets for the given area of interest.')\n",
    "except eumdac.collection.CollectionError as error:\n",
    "    print(f\"Error related to the collection: '{error.msg}'\")\n",
    "except requests.exceptions.RequestException as error:\n",
    "    print(f\"Unexpected error: {error}\")"
   ]
  },
  {
   "cell_type": "markdown",
   "metadata": {},
   "source": [
    "### - Filter and Sort Datasets by Time\n",
    "In order to limit our search not only spatially but also temporally to get only the products that are most relevant to us, we now add a sensing start and end time to our search parameters.\n",
    "\n",
    "**Parameters**\n",
    "- **dtstart**: sensing start date-time\n",
    "- **dtend**: sensing end date-time\n",
    "- **pi**: ID of collection\n",
    "- **sort**: mode for ascending or descending sorting"
   ]
  },
  {
   "cell_type": "code",
   "execution_count": 8,
   "metadata": {},
   "outputs": [],
   "source": [
    "# Set sensing start and end time\n",
    "start = datetime.datetime(2021, 11, 10, 8, 0)\n",
    "end = datetime.datetime(2021, 11, 10, 12, 0)\n",
    "# Retrieve datasets that match our filter\n",
    "products = selected_collection.search(\n",
    "    dtstart=start, \n",
    "    dtend=end,\n",
    "    sort=\"start,time,1\")"
   ]
  },
  {
   "cell_type": "code",
   "execution_count": 9,
   "metadata": {},
   "outputs": [
    {
     "name": "stdout",
     "output_type": "stream",
     "text": [
      "Found 7 datasets for the given time range and geometry:\n",
      "IASI_SND_02_M03_20211110063559Z_20211110081455Z_N_O_20211110082404Z\n",
      "IASI_SND_02_M01_20211110072355Z_20211110090555Z_N_O_20211110082048Z\n",
      "IASI_SND_02_M03_20211110081455Z_20211110095655Z_N_O_20211110100156Z\n",
      "IASI_SND_02_M01_20211110090555Z_20211110104459Z_N_O_20211110100530Z\n",
      "IASI_SND_02_M03_20211110095655Z_20211110113855Z_N_O_20211110114221Z\n",
      "IASI_SND_02_M01_20211110104459Z_20211110122659Z_N_O_20211110114332Z\n",
      "IASI_SND_02_M03_20211110113855Z_20211110131759Z_N_O_20211110132204Z\n"
     ]
    }
   ],
   "source": [
    "try:\n",
    "    print(f'Found {products.total_results} datasets for the given time range and geometry:') \n",
    "    for product in products:\n",
    "        print(product)\n",
    "except eumdac.collection.CollectionError as error:\n",
    "    print(f\"Error related to the collection: '{error.msg}'\")\n",
    "except requests.exceptions.RequestException as error:\n",
    "    print(f\"Unexpected error: {error}\")"
   ]
  },
  {
   "cell_type": "markdown",
   "metadata": {},
   "source": [
    "The example above shows how to sort the results in an ascending (1) or descending (0 - default) direction. Ascending sorting means, the list shows products from oldest to newest.\n",
    "\n",
    "*Note: The sorting for acending or descending is limited to the ordering of the products and is not related to the orbit path.*"
   ]
  },
  {
   "cell_type": "markdown",
   "metadata": {},
   "source": [
    "#### - Filter Datasets by Publication Time\n",
    "Besides searching by sensing time, it is also possible to search for products by their publication time. In other words, we specify a publication start and end time and then filter the products based on the time they were published.\n",
    "\n",
    "**Parameters**\n",
    "- **geo**: a custom geomtery in [Well Known Text format](https://en.wikipedia.org/wiki/Well-known_text_representation_of_geometry), using EPSG:4326 decimal degrees\n",
    "- **publication**: date-time string based on OGC standardised mathematical notation\n",
    "- **pi**: ID of collection"
   ]
  },
  {
   "cell_type": "code",
   "execution_count": 10,
   "metadata": {},
   "outputs": [],
   "source": [
    "# Set publication start and end time\n",
    "publication_start = datetime.datetime(2021, 11, 10, 8, 0)\n",
    "publication_end = datetime.datetime(2021, 11, 10, 12, 0)\n",
    "\n",
    "# Bring publication start and end time into the correct formated string\n",
    "start = publication_start.strftime(\"%Y-%m-%dT%H:%M:%S.000Z\")\n",
    "end = publication_end.strftime(\"%Y-%m-%dT%H:%M:%S.000Z\")"
   ]
  },
  {
   "cell_type": "code",
   "execution_count": 11,
   "metadata": {},
   "outputs": [
    {
     "name": "stdout",
     "output_type": "stream",
     "text": [
      "Found datasets: 6 datasets for the given time range and geometry\n"
     ]
    }
   ],
   "source": [
    "# Retrieve datasets that match our filter\n",
    "products = selected_collection.search(\n",
    "    publication=f\"[{start},{end}]\")\n",
    "\n",
    "try:\n",
    "    print(f'Found datasets: {products.total_results} datasets for the given time range and geometry')\n",
    "except eumdac.collection.CollectionError as error:\n",
    "    print(f\"Error related to the collection: '{error.msg}'\")\n",
    "except requests.exceptions.RequestException as error:\n",
    "    print(f\"Unexpected error: {error}\")"
   ]
  },
  {
   "cell_type": "markdown",
   "metadata": {},
   "source": [
    "The example above shows how to filter product that are published between two times. The format of the string is based on the OGC standard ([OGC OpenSearch Extension for Earth Observation](https://docs.opengeospatial.org/is/13-026r9/13-026r9.html#20)) and uses mathematical notation. It uses mathematical notation for ranges and sets to define the intervals with:\n",
    "\n",
    "```\n",
    "n1 equal to field = n1,                    {n1,n2,…} equals to field=n1 OR field=n2 OR …\n",
    "[n1,n2] equal to n1 <= field <= n2,        [n1,n2[ equals to n1 <= field < n2\n",
    "]n1,n2[ equals to n1 < field < n2          ]n1,n2] equal to n1 < field  <= n2.\n",
    "[n1 equals to n1<= field                   ]n1 equals to n1 < field\n",
    "n2] equals to field <= n2                  n2[ equals to field < n2.\n",
    "```\n",
    "\n",
    "This means that filter for products that are published after a specific time can be expressed as the following:"
   ]
  },
  {
   "cell_type": "code",
   "execution_count": 16,
   "metadata": {},
   "outputs": [
    {
     "name": "stdout",
     "output_type": "stream",
     "text": [
      "Found Datasets: 2320 datasets were published after the given time.\n"
     ]
    }
   ],
   "source": [
    "products_since_date = selected_collection.search(\n",
    "    geo=geometry,\n",
    "    publication=f\"[{start}\") # Note the square bracket in front of the start time variable\n",
    "\n",
    "try:\n",
    "    print(f'Found Datasets: {products_since_date.total_results} datasets were published after the given time.')\n",
    "except eumdac.collection.CollectionError as error:\n",
    "    print(f\"Error related to the collection: '{error.msg}'\")\n",
    "except requests.exceptions.RequestException as error:\n",
    "    print(f\"Unexpected error: {error}\")"
   ]
  },
  {
   "cell_type": "markdown",
   "metadata": {},
   "source": [
    "## 3. List Found Datasets\n",
    "\n",
    "Now we have identified the products that overlap with our area or time bounds of interest, we can show the properties of each product as follows."
   ]
  },
  {
   "cell_type": "code",
   "execution_count": 17,
   "metadata": {
    "scrolled": true
   },
   "outputs": [
    {
     "data": {
      "text/html": [
       "<b>IASI_SND_02_M01_20211110090555Z_20211110104459Z_N_O_20211110100530Z</b>"
      ],
      "text/plain": [
       "<IPython.core.display.HTML object>"
      ]
     },
     "metadata": {},
     "output_type": "display_data"
    },
    {
     "data": {
      "text/html": [
       "<b>Orbit type:</b> LEO"
      ],
      "text/plain": [
       "<IPython.core.display.HTML object>"
      ]
     },
     "metadata": {},
     "output_type": "display_data"
    },
    {
     "data": {
      "text/html": [
       "<b>Instrument:</b> IASI"
      ],
      "text/plain": [
       "<IPython.core.display.HTML object>"
      ]
     },
     "metadata": {},
     "output_type": "display_data"
    },
    {
     "data": {
      "text/html": [
       "<b>Satellite:</b> Metop-B"
      ],
      "text/plain": [
       "<IPython.core.display.HTML object>"
      ]
     },
     "metadata": {},
     "output_type": "display_data"
    },
    {
     "data": {
      "text/html": [
       "<b>Sensing start:</b> 2021-11-10 09:05:55"
      ],
      "text/plain": [
       "<IPython.core.display.HTML object>"
      ]
     },
     "metadata": {},
     "output_type": "display_data"
    },
    {
     "data": {
      "text/html": [
       "<b>Sensing end:</b> 2021-11-10 10:44:59"
      ],
      "text/plain": [
       "<IPython.core.display.HTML object>"
      ]
     },
     "metadata": {},
     "output_type": "display_data"
    },
    {
     "data": {
      "text/html": [
       "<b>Size:</b> 307688"
      ],
      "text/plain": [
       "<IPython.core.display.HTML object>"
      ]
     },
     "metadata": {},
     "output_type": "display_data"
    },
    {
     "data": {
      "text/html": [
       "<b>Files:</b>"
      ],
      "text/plain": [
       "<IPython.core.display.HTML object>"
      ]
     },
     "metadata": {},
     "output_type": "display_data"
    },
    {
     "data": {
      "text/plain": [
       "'IASI_SND_02_M01_20211110090555Z_20211110104459Z_N_O_20211110100530Z.nat'"
      ]
     },
     "metadata": {},
     "output_type": "display_data"
    },
    {
     "data": {
      "text/plain": [
       "'EOPMetadata.xml'"
      ]
     },
     "metadata": {},
     "output_type": "display_data"
    },
    {
     "data": {
      "text/plain": [
       "'manifest.xml'"
      ]
     },
     "metadata": {},
     "output_type": "display_data"
    },
    {
     "name": "stdout",
     "output_type": "stream",
     "text": [
      "----------------------------------------\n"
     ]
    },
    {
     "data": {
      "text/html": [
       "<b>IASI_SND_02_M03_20211110081455Z_20211110095655Z_N_O_20211110100156Z</b>"
      ],
      "text/plain": [
       "<IPython.core.display.HTML object>"
      ]
     },
     "metadata": {},
     "output_type": "display_data"
    },
    {
     "data": {
      "text/html": [
       "<b>Orbit type:</b> LEO"
      ],
      "text/plain": [
       "<IPython.core.display.HTML object>"
      ]
     },
     "metadata": {},
     "output_type": "display_data"
    },
    {
     "data": {
      "text/html": [
       "<b>Instrument:</b> IASI"
      ],
      "text/plain": [
       "<IPython.core.display.HTML object>"
      ]
     },
     "metadata": {},
     "output_type": "display_data"
    },
    {
     "data": {
      "text/html": [
       "<b>Satellite:</b> Metop-C"
      ],
      "text/plain": [
       "<IPython.core.display.HTML object>"
      ]
     },
     "metadata": {},
     "output_type": "display_data"
    },
    {
     "data": {
      "text/html": [
       "<b>Sensing start:</b> 2021-11-10 08:14:55"
      ],
      "text/plain": [
       "<IPython.core.display.HTML object>"
      ]
     },
     "metadata": {},
     "output_type": "display_data"
    },
    {
     "data": {
      "text/html": [
       "<b>Sensing end:</b> 2021-11-10 09:56:55"
      ],
      "text/plain": [
       "<IPython.core.display.HTML object>"
      ]
     },
     "metadata": {},
     "output_type": "display_data"
    },
    {
     "data": {
      "text/html": [
       "<b>Size:</b> 311266"
      ],
      "text/plain": [
       "<IPython.core.display.HTML object>"
      ]
     },
     "metadata": {},
     "output_type": "display_data"
    },
    {
     "data": {
      "text/html": [
       "<b>Files:</b>"
      ],
      "text/plain": [
       "<IPython.core.display.HTML object>"
      ]
     },
     "metadata": {},
     "output_type": "display_data"
    },
    {
     "data": {
      "text/plain": [
       "'EOPMetadata.xml'"
      ]
     },
     "metadata": {},
     "output_type": "display_data"
    },
    {
     "data": {
      "text/plain": [
       "'manifest.xml'"
      ]
     },
     "metadata": {},
     "output_type": "display_data"
    },
    {
     "data": {
      "text/plain": [
       "'IASI_SND_02_M03_20211110081455Z_20211110095655Z_N_O_20211110100156Z.nat'"
      ]
     },
     "metadata": {},
     "output_type": "display_data"
    },
    {
     "name": "stdout",
     "output_type": "stream",
     "text": [
      "----------------------------------------\n"
     ]
    }
   ],
   "source": [
    "for product in products:\n",
    "    try:\n",
    "        display(HTML('<b>'+str(product)+'</b>'))\n",
    "        display(HTML('<b>Orbit type:</b> '+product.orbit_type))\n",
    "        display(HTML('<b>Instrument:</b> '+product.instrument))\n",
    "        display(HTML('<b>Satellite:</b> '+product.satellite))\n",
    "        display(HTML('<b>Sensing start:</b> '+str(product.sensing_start)))\n",
    "        display(HTML('<b>Sensing end:</b> '+str(product.sensing_end)))\n",
    "        display(HTML('<b>Size:</b> '+str(product.size)))\n",
    "        display(HTML('<b>Files:</b>'))\n",
    "        for entry in product.entries:\n",
    "            display(entry)\n",
    "        print(\"----------------------------------------\")\n",
    "    except eumdac.product.ProductError as error:\n",
    "        print(f\"Error related to the product: '{error.msg}'\")\n",
    "    except requests.exceptions.RequestException as error:\n",
    "        print(f\"Unexpected error: {error}\")"
   ]
  },
  {
   "cell_type": "markdown",
   "metadata": {},
   "source": [
    "We have now successfully filtered out searches by both time and/or space, in the next tutorial we will download the product(s)."
   ]
  },
  {
   "cell_type": "markdown",
   "metadata": {},
   "source": [
    "<a href=\"./index.ipynb\">← Index</a>\n",
    "<br>\n",
    "<a href=\"./1_1_Discovering_collections.ipynb\">← Discovering collections</a>&nbsp;&nbsp;&nbsp;<span style=\"float:right;\"><a href=\"./1_3_Downloading_products.ipynb\">Downloading products →</a>"
   ]
  },
  {
   "cell_type": "markdown",
   "metadata": {
    "Collapsed": "false"
   },
   "source": [
    "<hr>"
   ]
  },
  {
   "cell_type": "markdown",
   "metadata": {
    "Collapsed": "false"
   },
   "source": [
    "<p style=\"text-align:left;\">This project is licensed under the <a href=\"./LICENSE.TXT\">MIT License</a> <span style=\"float:right;\"><a href=\"https://gitlab.eumetsat.int/eumetlab/data-services/eumdac_data_store\">View on GitLab</a> | <a href=\"https://classroom.eumetsat.int/\">EUMETSAT Training</a> | <a href=mailto:ops@eumetsat.int>Contact</a></span></p>"
   ]
  },
  {
   "cell_type": "code",
   "execution_count": null,
   "metadata": {},
   "outputs": [],
   "source": []
  }
 ],
 "metadata": {
  "kernelspec": {
   "display_name": "Python 3 (ipykernel)",
   "language": "python",
   "name": "python3"
  },
  "language_info": {
   "codemirror_mode": {
    "name": "ipython",
    "version": 3
   },
   "file_extension": ".py",
   "mimetype": "text/x-python",
   "name": "python",
   "nbconvert_exporter": "python",
   "pygments_lexer": "ipython3",
   "version": "3.10.14"
  }
 },
 "nbformat": 4,
 "nbformat_minor": 4
}
