{
 "cells": [
  {
   "cell_type": "markdown",
   "metadata": {
    "Collapsed": "false"
   },
   "source": [
    "<img src='./img/DataStore_EUMETSAT_Copernicus.png'/>"
   ]
  },
  {
   "cell_type": "markdown",
   "metadata": {},
   "source": [
    "Copyright (c) 2024 EUMETSAT <br>\n",
    "License: MIT"
   ]
  },
  {
   "cell_type": "markdown",
   "metadata": {
    "Collapsed": "false"
   },
   "source": [
    "<hr>"
   ]
  },
  {
   "cell_type": "markdown",
   "metadata": {
    "Collapsed": "false"
   },
   "source": [
    "<a href=\"./index.ipynb\">← Index</a>\n",
    "<br>\n",
    "<a href=\"./1_3_Downloading_products.ipynb\">← Downloading products</a><span style=\"float:right;\"><a href=\"./1_5_MTG_FCI_data_access.ipynb\">Downloading and visualising MTG FCI products →</a>"
   ]
  },
  {
   "cell_type": "markdown",
   "metadata": {},
   "source": [
    "# Sentinel-3 Data Store access with EUMDAC\n",
    "\n",
    "### Data used\n",
    "\n",
    "| Product Description  | Data Store collection ID| Product Navigator |\n",
    "|:--------------------:|:-----------------------:|:-----------------:|\n",
    "| Sentinel-3 OLCI level-2 full resolution  | EO:EUM:DAT:0407 | [link](https://navigator.eumetsat.int/product/EO:EUM:DAT:SENTINEL-3:OL_2_WFR___NTC?query=OLCI&filter=satellite__Sentinel-3&filter=instrument__OLCI&filter=processingLevel__Level%202%20Data&s=advanced) |\n",
    "\n",
    "### Learning outcomes\n",
    "\n",
    "At the end of this notebook you will know;\n",
    "* How to refine your <font color=\"#138D75\">**searches**</font> for Sentinel-3 products in the EUMETSAT Data Store using the `eumdac` API client\n",
    "* How to <font color=\"#138D75\">**download**</font> components of products\n",
    "* How to pre-screen downloads based on flags\n",
    "\n",
    "### Outline\n",
    "\n",
    "Data from Sentinel-3 is available through multiple sources, either via a web user interface (WebUI) or through code and command line interfaces with an Application Programming Interface (API). WebUIs are useful for accessing quick-look data visualisations, and for browsing to see what is available. APIs are more useful for routine, automated and operational data access. Here we will guide you through ways you can access Sentinel-3 data through both methods. We will use OLCI Level-2 Full Resolution data as an example.\n",
    "\n",
    "1. [Download data via GUIs](#section1)\n",
    "1. [Authenticating the APIs](#section2)\n",
    "1. [Example 1: Filter by collections](#section3)\n",
    "1. [Example 2: Filter by time](#section4)\n",
    "1. [Example 3: Filter by space and time](#section5)\n",
    "1. [Example 4: Download by component](#section6)\n",
    "\n",
    "<hr>"
   ]
  },
  {
   "cell_type": "code",
   "execution_count": 2,
   "metadata": {},
   "outputs": [],
   "source": [
    "import os\n",
    "import json\n",
    "import datetime\n",
    "import shutil\n",
    "import eumdac\n",
    "import requests\n",
    "from IPython.display import YouTubeVideo, HTML\n",
    "\n",
    "# Create a download directory for our downloaded products\n",
    "download_dir = os.path.join(os.getcwd(), \"products\")\n",
    "os.makedirs(download_dir, exist_ok=True)"
   ]
  },
  {
   "cell_type": "markdown",
   "metadata": {
    "jp-MarkdownHeadingCollapsed": true
   },
   "source": [
    "## Downloading data via GUIs\n",
    "\n",
    "### The EUMETSAT Data Store\n",
    "\n",
    "The [Data Store](https://data.eumetsat.int) is EUMETSAT's primary pull service for delivering data, including the ocean data available from Sentinel-3. \n",
    "\n",
    "Access to it is possible through a WebUI, and through a series of application programming interfaces (APIs). The Data Store supports browsing, searching and downloading data as well as subscription services. It also provides a link to the online version of the [EUMETSAT Data Tailor](https://tailor.eumetsat.int/) for customisation. The video below provides an overview of the Data Store WebUI.\n",
    "\n",
    "The video below explains how you can access data through the EUMETSAT Data Store WebUI. You can visit and see if you can find Sentinel-3 data to download, however this notebook will also show you how to access the Data Store API, facilitated by the `eumdac` client (see the [Downloading via the Data Store API](#section3) section, below).\n",
    "#### Links:\n",
    "\n",
    "* [EUMETSAT Data Store](https://data.eumetsat.int)\n",
    "* [More information on the Data Store](https://user.eumetsat.int/data-access/data-store)"
   ]
  },
  {
   "cell_type": "markdown",
   "metadata": {},
   "source": [
    "<div class=\"alert alert-info\" role=\"alert\">\n",
    "\n",
    "## <a id='section1'></a>Authenticating the APIs\n",
    "[Back to top](#TOC_TOP)\n",
    "\n",
    "</div>\n",
    "\n",
    "To access Sentinel-3 data from the [Data Store](https://data.eumetsat.int), we will use the EUMETSAT Data Access Client (`eumdac`). If you are working with the recommended Anaconda Python distribution, you can install eumdac using;\n",
    "\n",
    "`conda install -c eumetsat eumdac`\n",
    "\n",
    "or with pip using;\n",
    "\n",
    "`pip install eumdac`\n",
    "\n",
    "\n",
    "However, you can also find the source code on the [EUMETSAT gitlab](https://gitlab.eumetsat.int/eumetlab/data-services/eumdac). Please visit the EUMETSAT user portal spaces for the the [Data Store](https://user.eumetsat.int/data-access/data-store) and [eumdac](https://user.eumetsat.int/resources/user-guides/eumetsat-data-access-client-eumdac-guide) for more information.\n",
    "\n",
    "In order to allow us to download data from the Data Store via API, we need to provide our credentials. We can do this in two ways; either by creating a file called `.eumdac_credentials` in our home directory (*option 1 - recommended*) or by supplying our credentials directly in this script (*option 2*). \n",
    "\n",
    "#### Option 1: creating  `.eumdac_credentials` in our home directory\n",
    "\n",
    "For most computer systems the home directory can be found at the path \\user\\username, /users/username, or /home/username depending on your operating system.\n",
    "\n",
    "In this file we need to add the following information exactly as follows;\n",
    "\n",
    "```\n",
    "{\n",
    "\"consumer_key\": \"<your_consumer_key>\",\n",
    "\"consumer_secret\": \"<your_consumer_secret>\"\n",
    "}\n",
    "```\n",
    "\n",
    "You must replace `<your_consumer_key>` and `<your_consumer_secret>` with the information you extract from https://api.eumetsat.int/api-key/. You will need a [EUMETSAT User Portal account](https://user.eumetsat.int/) to access this link, and in order to see the information you must click the \"Show hidden fields\" button at the bottom of the page.\n",
    "\n",
    "*Note: your key and secret are permanent, so you only need to do this once, but you should take care to never share them*\n",
    "\n",
    "Once you have done this, you can read in your credentials using the commands in the following cell. These will be used to generate a time-limited token, which will refresh itself when it expires."
   ]
  },
  {
   "cell_type": "code",
   "execution_count": null,
   "metadata": {},
   "outputs": [],
   "source": [
    "# load credentials\n",
    "with open(os.path.join(os.path.expanduser(\"~\"),'.eumdac_credentials')) as json_file:\n",
    "    credentials = json.load(json_file)\n",
    "    token = eumdac.AccessToken((credentials['consumer_key'], credentials['consumer_secret']))\n",
    "\n",
    "    \n",
    "try:\n",
    "    print(f\"This token '{token}' expires {token.expiration}\")\n",
    "except requests.exceptions.HTTPError as exc:\n",
    "    print(f\"Error when tryng the request to the server: '{exc}'\")"
   ]
  },
  {
   "cell_type": "markdown",
   "metadata": {},
   "source": [
    "#### Option 2: provide credentials directly\n",
    "\n",
    "You can provide your credentials directly as follows;\n",
    "\n",
    "`token = eumdac.AccessToken((consumer_key, consumer_secret))`\n",
    "\n",
    "Once we have a token (by either method described above) we can create a datastore 'object' that contains all the collections, and filter this list for those that are relevant to Sentinel-3. The code to the right of the colon is what will tell use the ID for the Sentinel-3 collection we are interested in.\n",
    "\n",
    "*Note: this method is convenient in the short term, but is not really recommended as you have to put your key and secret in this notebook, and run the risk of accidentally sharing them. This method also requires you to authenticate on a notebook-by-notebook basis.*\n"
   ]
  },
  {
   "cell_type": "code",
   "execution_count": null,
   "metadata": {},
   "outputs": [],
   "source": [
    "# insert your personal key and secret into the single quotes\n",
    "\n",
    "consumer_key = 'YOUR_CONSUMER_KEY'\n",
    "consumer_secret = 'YOUR_CONSUMER_SECRET'\n",
    "\n",
    "credentials = (consumer_key, consumer_secret)\n",
    "token = eumdac.AccessToken(credentials) \n",
    "\n",
    "try:\n",
    "    print(f\"This token '{token}' expires {token.expiration}\")\n",
    "except requests.exceptions.HTTPError as exc:\n",
    "    print(f\"Error when tryng the request to the server: '{exc}'\")"
   ]
  },
  {
   "cell_type": "markdown",
   "metadata": {},
   "source": [
    "After you set your credentials (as described in Option 1 or Option 2) you can connect to the service and looking for all Sentinel-3 collection in EUMETSATs DataStore:"
   ]
  },
  {
   "cell_type": "code",
   "execution_count": null,
   "metadata": {
    "scrolled": true
   },
   "outputs": [],
   "source": [
    "# create data store object\n",
    "datastore = eumdac.DataStore(token)\n",
    "\n",
    "# show all collections:\n",
    "for collectionID in datastore.collections:\n",
    "    if 'Sentinel-3' in collectionID.title:\n",
    "        try:\n",
    "            print(f\"{collectionID}: {collectionID.title}\")\n",
    "        except eumdac.datastore.DataStoreError as error:\n",
    "            print(f\"Error related to the data store: '{error.msg}'\")\n",
    "        except eumdac.collection.CollectionError as error:\n",
    "            print(f\"Error related to a collection: '{error.msg}'\")\n",
    "        except requests.exceptions.RequestException as error:\n",
    "            print(f\"Unexpected error: {error}\")"
   ]
  },
  {
   "cell_type": "markdown",
   "metadata": {},
   "source": [
    "<div class=\"alert alert-block alert-success\">\n",
    "<b>NOTE:</b><br />\n",
    "Find more information about EUMDAC errors, their causes and possible solutions, in our knowledge base: <a href=\"https://user.eumetsat.int/resources/user-guides/eumetsat-data-access-client-eumdac-guide#ID-Exception-handling\">https://user.eumetsat.int/resources/user-guides/eumetsat-data-access-client-eumdac-guide#ID-Exception-handling</a>\n",
    "</div>"
   ]
  },
  {
   "cell_type": "markdown",
   "metadata": {},
   "source": [
    "Now we can select our collection of interest, which in this case is EO:EUM:DAT:0407 for OLCI Level 2 Ocean Colour Full Resolution."
   ]
  },
  {
   "cell_type": "markdown",
   "metadata": {},
   "source": [
    "<div class=\"alert alert-info\" role=\"alert\">\n",
    "\n",
    "## <a id='section1'></a>Example 1: Filtering by collection\n",
    "[Back to top](#TOC_TOP)\n",
    "\n",
    "</div>"
   ]
  },
  {
   "cell_type": "markdown",
   "metadata": {},
   "source": [
    "Now that we know out collection of interest, we can use `eumdac` to create collection object"
   ]
  },
  {
   "cell_type": "code",
   "execution_count": 10,
   "metadata": {},
   "outputs": [
    {
     "name": "stdout",
     "output_type": "stream",
     "text": [
      "OLCI Level 2 Ocean Colour Full Resolution - Sentinel-3\n"
     ]
    }
   ],
   "source": [
    "# set collection ID for OLCI L2 WFR\n",
    "collectionID = 'EO:EUM:DAT:0407'\n",
    "\n",
    "# Use collection ID\n",
    "selected_collection = datastore.get_collection(collectionID)\n",
    "try:\n",
    "    print(selected_collection.title)\n",
    "except eumdac.collection.CollectionError as error:\n",
    "    print(f\"Error related to a collection: '{error.msg}'\")\n",
    "except requests.exceptions.RequestException as error:\n",
    "    print(f\"Unexpected error: {error}\")"
   ]
  },
  {
   "cell_type": "markdown",
   "metadata": {},
   "source": [
    "<div class=\"alert alert-info\" role=\"alert\">\n",
    "\n",
    "## <a id='section2'></a>Example 2: Filtering by time\n",
    "[Back to top](#TOC_TOP)\n",
    "\n",
    "</div>"
   ]
  },
  {
   "cell_type": "markdown",
   "metadata": {},
   "source": [
    "Now that we specified our collection, we can query the collections it contains. For example, to find the lastest product in a collection;"
   ]
  },
  {
   "cell_type": "code",
   "execution_count": 12,
   "metadata": {},
   "outputs": [
    {
     "name": "stdout",
     "output_type": "stream",
     "text": [
      "S3A_OL_2_WFR____20230313T080518_20230313T080808_20230313T104312_0169_096_263_4140_MAR_O_NR_003.SEN3\n"
     ]
    }
   ],
   "source": [
    "# Get the latest product in a collection\n",
    "selected_collection = datastore.get_collection(collectionID)\n",
    "latest = selected_collection.search().first()\n",
    "    \n",
    "try:\n",
    "    print(latest)\n",
    "except eumdac.collection.CollectionError as error:\n",
    "    print(f\"Error related to the collection: '{error.msg}'\")\n",
    "except requests.exceptions.RequestException as error:\n",
    "    print(f\"Unexpected error: {error}\")"
   ]
  },
  {
   "cell_type": "markdown",
   "metadata": {},
   "source": [
    "Alternatively, we can search for and list all the products that occur within a time range."
   ]
  },
  {
   "cell_type": "code",
   "execution_count": 13,
   "metadata": {},
   "outputs": [
    {
     "name": "stdout",
     "output_type": "stream",
     "text": [
      "S3A_OL_2_WFR____20220323T161304_20220323T161604_20220325T023952_0179_083_211_2880_MAR_O_NT_003.SEN3\n",
      "S3A_OL_2_WFR____20220323T161004_20220323T161304_20220325T023931_0179_083_211_2700_MAR_O_NT_003.SEN3\n",
      "S3A_OL_2_WFR____20220323T160704_20220323T161004_20220325T023909_0179_083_211_2520_MAR_O_NT_003.SEN3\n",
      "S3A_OL_2_WFR____20220323T160404_20220323T160704_20220325T023849_0179_083_211_2340_MAR_O_NT_003.SEN3\n",
      "S3A_OL_2_WFR____20220323T160104_20220323T160404_20220325T023829_0179_083_211_2160_MAR_O_NT_003.SEN3\n",
      "S3A_OL_2_WFR____20220323T155804_20220323T160104_20220325T023809_0179_083_211_1980_MAR_O_NT_003.SEN3\n"
     ]
    }
   ],
   "source": [
    "# time filter the collection for products\n",
    "start = datetime.datetime(2022, 3, 23, 16, 0)\n",
    "end = datetime.datetime(2022, 3, 23, 16, 15)\n",
    "products = selected_collection.search(dtstart=start, dtend=end)\n",
    "    \n",
    "for product in products:    \n",
    "    try:\n",
    "        print(product)\n",
    "    except eumdac.collection.CollectionError as error:\n",
    "        print(f\"Error related to the collection: '{error.msg}'\")\n",
    "    except eumdac.product.ProductError as error:\n",
    "            print(f\"Error related to the product: '{error.msg}'\")\n",
    "    except requests.exceptions.RequestException as error:\n",
    "        print(f\"Unexpected error: {error}\")"
   ]
  },
  {
   "cell_type": "markdown",
   "metadata": {},
   "source": [
    "<div class=\"alert alert-info\" role=\"alert\">\n",
    "\n",
    "## <a id='section3'></a>Example 3: Filtering by space and time\n",
    "[Back to top](#TOC_TOP)\n",
    "\n",
    "</div>"
   ]
  },
  {
   "cell_type": "markdown",
   "metadata": {},
   "source": [
    "Alongside temporal filtering, we can also pass \"Well Known Text (WKT)\" polygons to `eumdac` to specify a region of interest (ROI) that we want to search over."
   ]
  },
  {
   "cell_type": "code",
   "execution_count": 14,
   "metadata": {},
   "outputs": [],
   "source": [
    "# space/time filter the collection for products\n",
    "selected_collection = datastore.get_collection(collectionID)\n",
    "start = datetime.datetime(2022, 1, 23)\n",
    "end = datetime.datetime(2022, 1, 24)\n",
    "WKT = \"POLYGON((-1.0 -1.0,4.0 -4.0,8.0 -2.0,9.0 2.0,6.0 4.0,1.0 5.0,-1.0 -1.0))\"\n",
    "\n",
    "products = selected_collection.search(\n",
    "    geo=WKT,\n",
    "    dtstart=start, \n",
    "    dtend=end)"
   ]
  },
  {
   "cell_type": "code",
   "execution_count": 15,
   "metadata": {},
   "outputs": [
    {
     "name": "stdout",
     "output_type": "stream",
     "text": [
      "S3A_OL_2_WFR____20220123T100205_20220123T100505_20220124T223346_0179_081_136_3060_MAR_O_NT_003.SEN3\n",
      "S3A_OL_2_WFR____20220123T095905_20220123T100205_20220124T223325_0179_081_136_2880_MAR_O_NT_003.SEN3\n",
      "S3B_OL_2_WFR____20220123T092235_20220123T092535_20220124T223420_0179_061_378_3060_MAR_O_NT_003.SEN3\n",
      "S3B_OL_2_WFR____20220123T091935_20220123T092235_20220124T223353_0179_061_378_2880_MAR_O_NT_003.SEN3\n"
     ]
    }
   ],
   "source": [
    "for product in products:\n",
    "    try:\n",
    "        print(product)\n",
    "    except eumdac.collection.CollectionError as error:\n",
    "        print(f\"Error related to the collection: '{error.msg}'\")\n",
    "    except eumdac.product.ProductError as error:\n",
    "        print(f\"Error related to the product: '{error.msg}'\")\n",
    "    except requests.exceptions.RequestException as error:\n",
    "        print(f\"Unexpected error: {error}\")"
   ]
  },
  {
   "cell_type": "markdown",
   "metadata": {},
   "source": [
    "<div class=\"alert alert-info\" role=\"alert\">\n",
    "\n",
    "## <a id='section4'></a>Example 4: Downloading entire products\n",
    "[Back to top](#TOC_TOP)\n",
    "\n",
    "</div>"
   ]
  },
  {
   "cell_type": "markdown",
   "metadata": {},
   "source": [
    "Once we have identified a product, we can download it simply by passing the product and collectionID to the `get_product` method of our `datastore` object."
   ]
  },
  {
   "cell_type": "code",
   "execution_count": 16,
   "metadata": {},
   "outputs": [
    {
     "name": "stdout",
     "output_type": "stream",
     "text": [
      "Downloading S3B_OL_2_WFR____20220123T091935_20220123T092235_20220124T223353_0179_061_378_2880_MAR_O_NT_003.SEN3.zip\n",
      "Download of product S3B_OL_2_WFR____20220123T091935_20220123T092235_20220124T223353_0179_061_378_2880_MAR_O_NT_003.SEN3.zip finished.\n"
     ]
    }
   ],
   "source": [
    "selected_product = datastore.get_product(product_id=str(product), collection_id=collectionID)\n",
    "\n",
    "try:\n",
    "    with selected_product.open() as fsrc, open(os.path.join(download_dir, fsrc.name), mode='wb') as fdst:\n",
    "        print(f'Downloading {fsrc.name}')\n",
    "        shutil.copyfileobj(fsrc, fdst)\n",
    "        print(f'Download of product {fsrc.name} finished.')\n",
    "except eumdac.product.ProductError as error:\n",
    "        print(f\"Error related to the product: '{error.msg}'\")\n",
    "except requests.exceptions.RequestException as error:\n",
    "    print(f\"Unexpected error: {error}\")"
   ]
  },
  {
   "cell_type": "markdown",
   "metadata": {},
   "source": [
    "<div class=\"alert alert-info\" role=\"alert\">\n",
    "\n",
    "## <a id='section4'></a>Example 5: Downloading by component\n",
    "[Back to top](#TOC_TOP)\n",
    "\n",
    "</div>"
   ]
  },
  {
   "cell_type": "markdown",
   "metadata": {},
   "source": [
    "If we do not wish to download an entire product, we can choose to select only a single component using the `entries` property of the product."
   ]
  },
  {
   "cell_type": "code",
   "execution_count": 17,
   "metadata": {},
   "outputs": [
    {
     "name": "stdout",
     "output_type": "stream",
     "text": [
      "Downloading xfdumanifest.xml.\n",
      "Download of file xfdumanifest.xml finished.\n"
     ]
    }
   ],
   "source": [
    "# Get the latest product in a collection\n",
    "selected_collection = datastore.get_collection(collectionID)\n",
    "latest = selected_collection.search().first()\n",
    "\n",
    "for entry in latest.entries:\n",
    "    if 'xfdumanifest.xml' in entry:\n",
    "        try:\n",
    "            with latest.open(entry=entry) as fsrc, open(os.path.join(os.getcwd(), 'products',fsrc.name), mode='wb') as fdst:\n",
    "                print(f'Downloading {fsrc.name}.')\n",
    "                shutil.copyfileobj(fsrc, fdst)\n",
    "                print(f'Download of file {fsrc.name} finished.')\n",
    "        except eumdac.collection.CollectionError as error:\n",
    "            print(f\"Error related to the collection: '{error.msg}'\")\n",
    "        except eumdac.product.ProductError as error:\n",
    "                print(f\"Error related to the product: '{error.msg}'\")\n",
    "        except requests.exceptions.RequestException as error:\n",
    "            print(f\"Unexpected error: {error}\")"
   ]
  },
  {
   "cell_type": "markdown",
   "metadata": {},
   "source": [
    "<a href=\"./index.ipynb\">← Index</a>\n",
    "<br>\n",
    "<a href=\"./1_3_Downloading_products.ipynb\">← Downloading products</a><span style=\"float:right;\"><a href=\"./1_5_MTG_data_access.ipynb\">Downloading and visualising MTG FCI products →</a>"
   ]
  },
  {
   "cell_type": "markdown",
   "metadata": {
    "Collapsed": "false"
   },
   "source": [
    "<hr>"
   ]
  },
  {
   "cell_type": "markdown",
   "metadata": {
    "Collapsed": "false"
   },
   "source": [
    "<p style=\"text-align:left;\">This project is licensed under the <a href=\"./LICENSE.TXT\">MIT License</a> <span style=\"float:right;\"><a href=\"https://gitlab.eumetsat.int/eumetlab/data-services/eumdac_data_store\">View on GitLab</a> | <a href=\"https://classroom.eumetsat.int/\">EUMETSAT Training</a> | <a href=mailto:ops@eumetsat.int>Contact</a></span></p>"
   ]
  },
  {
   "cell_type": "code",
   "execution_count": null,
   "metadata": {},
   "outputs": [],
   "source": []
  }
 ],
 "metadata": {
  "kernelspec": {
   "display_name": "Python 3 (ipykernel)",
   "language": "python",
   "name": "python3"
  },
  "language_info": {
   "codemirror_mode": {
    "name": "ipython",
    "version": 3
   },
   "file_extension": ".py",
   "mimetype": "text/x-python",
   "name": "python",
   "nbconvert_exporter": "python",
   "pygments_lexer": "ipython3",
   "version": "3.11.9"
  }
 },
 "nbformat": 4,
 "nbformat_minor": 4
}
