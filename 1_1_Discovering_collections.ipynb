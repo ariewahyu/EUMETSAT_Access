{
 "cells": [
  {
   "cell_type": "markdown",
   "metadata": {
    "Collapsed": "false"
   },
   "source": [
    "<img src='./img/DataStore_EUMETSAT.png'/>"
   ]
  },
  {
   "cell_type": "markdown",
   "metadata": {},
   "source": [
    "Copyright (c) 2024 EUMETSAT <br>\n",
    "License: MIT"
   ]
  },
  {
   "cell_type": "markdown",
   "metadata": {
    "Collapsed": "false"
   },
   "source": [
    "<hr>"
   ]
  },
  {
   "cell_type": "markdown",
   "metadata": {
    "Collapsed": "false"
   },
   "source": [
    "<a href=\"./index.ipynb\">← Index</a>\n",
    "<br /><a href=\"./0_Intro_to_Python_and_Jupyter.ipynb\">← Introduction to Python and Project Jupyter</a><span style=\"float:right;\"><a href=\"./1_2_Searching_and_filtering_products.ipynb\">Searching and filtering products →</a>"
   ]
  },
  {
   "cell_type": "markdown",
   "metadata": {
    "Collapsed": "false"
   },
   "source": [
    "# Discovering collections"
   ]
  },
  {
   "cell_type": "markdown",
   "metadata": {},
   "source": [
    "## What will this module teach you?\n",
    "\n",
    "This module will show you how to:<br>\n",
    "1. Discover EUMETSAT Data Store collections with the EUMDAC Python client\n",
    "2. How to get the collection ID for each collection"
   ]
  },
  {
   "cell_type": "markdown",
   "metadata": {},
   "source": [
    "# Browse collections using your browser\n",
    "We can check what is available on the EUMETSAT Data Store using our browser. The https://api.eumetsat.int/data/browse/ endpoint provides an easy way to browse the collections and their products\n",
    "- To start browsing, go to the list of EUMETSAT Data Store collections:<br>https://api.eumetsat.int/data/browse/collections \n",
    "- The same data can be retrieved in JSON format at any point by adding the 'format=json' parameter: <br>https://api.eumetsat.int/data/browse/collections?format=json\n"
   ]
  },
  {
   "cell_type": "markdown",
   "metadata": {
    "tags": []
   },
   "source": [
    "## Use EUMDAC library\n",
    "\n",
    "What if we want to query the available collections and find more on them? We can do this by using EUMDAC, a Python library from EUMETSAT to handle requests and responses of the APIs.\n",
    "\n",
    "**We need to install the library first!** An installation guide and further information about the usage of EUMDAC we will find here: https://user.eumetsat.int/resources/user-guides/eumetsat-data-access-client-eumdac-guide\n",
    "\n",
    "### Authentication\n",
    "\n",
    "For this we need our personal API credentials which can accessed here: https://api.eumetsat.int/api-key/\n",
    "\n",
    "These credentials can be used to generate a \"Token\" object, which allows us to access the services. The token is time limited, but EUMDAC will refresh it for you when it expires."
   ]
  },
  {
   "cell_type": "code",
   "execution_count": 15,
   "metadata": {
    "tags": []
   },
   "outputs": [],
   "source": [
    "# Import the library EUMDAC\n",
    "import eumdac\n",
    "import requests"
   ]
  },
  {
   "cell_type": "code",
   "execution_count": 2,
   "metadata": {
    "tags": []
   },
   "outputs": [],
   "source": [
    "# Insert your personal key and secret into the single quotes\n",
    "\n",
    "consumer_key = 'CONSUMER-KEY'\n",
    "consumer_secret = 'CONSUMER-SECRET'\n",
    "\n",
    "credentials = (consumer_key, consumer_secret)\n",
    "\n",
    "token = eumdac.AccessToken(credentials)"
   ]
  },
  {
   "cell_type": "markdown",
   "metadata": {
    "tags": []
   },
   "source": [
    "Now, we can check if the token generation works. If things went as planned, we will get a token and when it's expiring..."
   ]
  },
  {
   "cell_type": "code",
   "execution_count": null,
   "metadata": {
    "tags": []
   },
   "outputs": [],
   "source": [
    "try:\n",
    "    print(f\"This token '{token}' expires {token.expiration}\")\n",
    "except requests.exceptions.HTTPError as error:\n",
    "    print(f\"Error when tryng the request to the server: '{error}'\")"
   ]
  },
  {
   "cell_type": "markdown",
   "metadata": {
    "tags": []
   },
   "source": [
    "### Query and Select Collections"
   ]
  },
  {
   "cell_type": "markdown",
   "metadata": {
    "tags": []
   },
   "source": [
    "Now we will define a \"DataStore\" object. This object provides a simple access to the collections and data inside of it. Using our token, we can define it and use it to get the available collections as follows;"
   ]
  },
  {
   "cell_type": "markdown",
   "metadata": {},
   "source": [
    "<div class=\"alert alert-block alert-success\">\n",
    "<b>NOTE:</b><br />\n",
    "Your licence conditions determine which collections are available to you. Find more information about EUMETSAT data licensing here: <a href=\"https://user.eumetsat.int/resources/user-guides/data-registration-and-licensing\">https://user.eumetsat.int/resources/user-guides/data-registration-and-licensing</a>\n",
    "</div>"
   ]
  },
  {
   "cell_type": "code",
   "execution_count": null,
   "metadata": {
    "scrolled": true,
    "tags": []
   },
   "outputs": [
    {
     "name": "stdout",
     "output_type": "stream",
     "text": [
      "EUMETSATs DataStore provides access to 320 collections.\n"
     ]
    }
   ],
   "source": [
    "# Retrieve how many collection objects are available from DataStore\n",
    "datastore = eumdac.DataStore(token)\n",
    "try:\n",
    "    print(f\"EUMETSATs DataStore provides access to {len(datastore.collections)} collections.\")\n",
    "except eumdac.datastore.DataStoreError as error:\n",
    "    print(f\"Error related to the data store: '{error.msg}'\")\n",
    "except requests.exceptions.RequestException as error:\n",
    "    print(f\"Unexpected error: {error}\")"
   ]
  },
  {
   "cell_type": "markdown",
   "metadata": {},
   "source": [
    "Note that for each eumdac error you can print the message with `error.msg` or the extra info dictionary with `error.extrainfo['text']` or `error.extrainfo['url']` or `error.extrainfo['status']`."
   ]
  },
  {
   "cell_type": "markdown",
   "metadata": {},
   "source": [
    "**DataStoreError** can be related to the following:\n",
    "- Establishing connection to DataStore failed\n",
    "- Load collections failed"
   ]
  },
  {
   "cell_type": "markdown",
   "metadata": {},
   "source": [
    "<div class=\"alert alert-block alert-success\">\n",
    "<b>NOTE:</b><br />\n",
    "Find more information about EUMDAC errors, their causes and possible solutions, in our knowledge base: <a href=\"https://user.eumetsat.int/resources/user-guides/eumetsat-data-access-client-eumdac-guide#ID-Exception-handling\">https://user.eumetsat.int/resources/user-guides/eumetsat-data-access-client-eumdac-guide#ID-Exception-handling</a>\n",
    "</div>"
   ]
  },
  {
   "cell_type": "markdown",
   "metadata": {
    "tags": []
   },
   "source": [
    "Now we can just loop over the objects and print the ID and title of each item."
   ]
  },
  {
   "cell_type": "code",
   "execution_count": null,
   "metadata": {
    "tags": []
   },
   "outputs": [],
   "source": [
    "try:\n",
    "    for collection in datastore.collections:\n",
    "        print(f\"{collection} - {collection.title}\")\n",
    "except eumdac.datastore.DataStoreError as error:\n",
    "    # The message will be: Load collections failed.\n",
    "    print(f\"Error related to the DataStore:'{error.msg}'\")\n",
    "except eumdac.collection.CollectionError as error:\n",
    "    # The message will be: Related to a failed loading of properties related to the collection ID.\n",
    "    print(f\"Error related to a collection: '{error.msg}'\")\n",
    "except requests.exceptions.RequestException as error:\n",
    "    print(f\"Unexpected error: {error}\")"
   ]
  },
  {
   "cell_type": "markdown",
   "metadata": {
    "tags": []
   },
   "source": [
    "What if we further information on one item in the list? EUMDAC provides us methods to do this. It can give us all the relevant information related to the collection: \n",
    "* Collection title\n",
    "* Data Store ID of the collection\n",
    "* Detailed description of the collection products\n",
    "\n",
    "Now we can have each of the above points displayed for the chosen collection."
   ]
  },
  {
   "cell_type": "markdown",
   "metadata": {},
   "source": [
    "**CollectionError** can be related to the following:\n",
    "- Invalid search options\n",
    "- Search query load page failed for the collection\n",
    "- Could not get properties of collection id\n",
    "- Could not get search options"
   ]
  },
  {
   "cell_type": "code",
   "execution_count": 9,
   "metadata": {
    "tags": []
   },
   "outputs": [],
   "source": [
    "# Select our collection\n",
    "selected_collection = datastore.get_collection('EO:EUM:DAT:MSG:HRSEVIRI')"
   ]
  },
  {
   "cell_type": "code",
   "execution_count": null,
   "metadata": {
    "tags": []
   },
   "outputs": [],
   "source": [
    "# To make the collection output more clear we'll use the \n",
    "# HTML module of IPython. It is not mandatory for EUMDAC.\n",
    "from IPython.core.display import HTML\n",
    "\n",
    "# Display the details for the selected collection\n",
    "try:\n",
    "    display(HTML('<b>'+selected_collection.title+'</b>'))\n",
    "    display(HTML('<b>ID:</b> '+str(selected_collection)))\n",
    "    display(HTML('<b>Abstract:</b> '+selected_collection.abstract))\n",
    "except eumdac.collection.CollectionError as error:\n",
    "    print(f\"Collection error: {error}\")\n",
    "    #The message will be: Could not get properties of collection id\n",
    "except requests.exceptions.RequestException as error:\n",
    "    print(f\"Unexpected error: '{error}'\")"
   ]
  },
  {
   "cell_type": "markdown",
   "metadata": {
    "tags": []
   },
   "source": [
    "Now we have identified tha available products, we likely want to know which ones intersect with an area or time of interest. We cover this in the next tutorial."
   ]
  },
  {
   "cell_type": "markdown",
   "metadata": {},
   "source": [
    "<a href=\"./index.ipynb\">← Index</a>\n",
    "<br /><a href=\"./0_Intro_to_Python_and_Jupyter.ipynb\">← Introduction to Python and Project Jupyter</a><span style=\"float:right;\"><a href=\"./1_2_Searching_and_filtering_products.ipynb\">Searching and filtering products →</a>"
   ]
  },
  {
   "cell_type": "markdown",
   "metadata": {
    "Collapsed": "false"
   },
   "source": [
    "<hr>"
   ]
  },
  {
   "cell_type": "markdown",
   "metadata": {
    "Collapsed": "false"
   },
   "source": [
    "<p style=\"text-align:left;\">This project is licensed under the <a href=\"./LICENSE.TXT\">MIT License</a> <span style=\"float:right;\"><a href=\"https://gitlab.eumetsat.int/eumetlab/data-services/eumdac_data_store\">View on GitLab</a> | <a href=\"https://classroom.eumetsat.int/\">EUMETSAT Training</a> | <a href=mailto:ops@eumetsat.int>Contact</a></span></p>"
   ]
  },
  {
   "cell_type": "code",
   "execution_count": null,
   "metadata": {},
   "outputs": [],
   "source": []
  }
 ],
 "metadata": {
  "kernelspec": {
   "display_name": "Python 3 (ipykernel)",
   "language": "python",
   "name": "python3"
  },
  "language_info": {
   "codemirror_mode": {
    "name": "ipython",
    "version": 3
   },
   "file_extension": ".py",
   "mimetype": "text/x-python",
   "name": "python",
   "nbconvert_exporter": "python",
   "pygments_lexer": "ipython3",
   "version": "3.11.9"
  }
 },
 "nbformat": 4,
 "nbformat_minor": 4
}
